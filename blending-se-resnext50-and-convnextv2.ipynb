{
 "cells": [
  {
   "cell_type": "markdown",
   "id": "eb312762",
   "metadata": {
    "papermill": {
     "duration": 0.012295,
     "end_time": "2023-02-24T13:15:26.261828",
     "exception": false,
     "start_time": "2023-02-24T13:15:26.249533",
     "status": "completed"
    },
    "tags": []
   },
   "source": [
    "# Blend notebook \"SE-ResNeXt50 full GPU decoding\" and \"RSNA ConvNextV2 Inference Tensorflow\"\n",
    "## \"SE-ResNeXt50 full GPU decoding\" is:\n",
    "https://www.kaggle.com/code/christofhenkel/se-resnext50-full-gpu-decoding/notebook\n",
    "\n",
    "## \"RSNA ConvNextV2 Inference Tensorflow\" is:\n",
    "https://www.kaggle.com/code/markwijkhuizen/rsna-convnextv2-inference-tensorflow/notebook\n",
    "\n",
    "**Thank you Dieter (@christofhenkel)** for public pretrained model `rsna-seresnext50-5fold`\n",
    "\n",
    "and\n",
    "\n",
    "**Thank you Mark Wijkhuizen (@markwijkhuizen)** for public pretrained model `rsna-efficientnetv2-training-tensorflow-tpu-ds`"
   ]
  },
  {
   "cell_type": "code",
   "execution_count": 1,
   "id": "5eafafd9",
   "metadata": {
    "execution": {
     "iopub.execute_input": "2023-02-24T13:15:26.286736Z",
     "iopub.status.busy": "2023-02-24T13:15:26.286205Z",
     "iopub.status.idle": "2023-02-24T13:15:49.481160Z",
     "shell.execute_reply": "2023-02-24T13:15:49.479951Z"
    },
    "papermill": {
     "duration": 23.212045,
     "end_time": "2023-02-24T13:15:49.484495",
     "exception": false,
     "start_time": "2023-02-24T13:15:26.272450",
     "status": "completed"
    },
    "tags": []
   },
   "outputs": [
    {
     "name": "stdout",
     "output_type": "stream",
     "text": [
      "Processing /kaggle/input/keras-cv-attention-models/keras_cv_attention_models-1.3.9-py3-none-any.whl\r\n",
      "Installing collected packages: keras-cv-attention-models\r\n",
      "Successfully installed keras-cv-attention-models-1.3.9\r\n",
      "\u001b[33mWARNING: Running pip as the 'root' user can result in broken permissions and conflicting behaviour with the system package manager. It is recommended to use a virtual environment instead: https://pip.pypa.io/warnings/venv\u001b[0m\u001b[33m\r\n",
      "\u001b[0m\u001b[33mWARNING: There was an error checking the latest version of pip.\u001b[0m\u001b[33m\r\n",
      "\u001b[0m"
     ]
    }
   ],
   "source": [
    "# Install Keras CV Attention Model Pip Package for ConvNextV2 Models\n",
    "!pip install --no-deps /kaggle/input/keras-cv-attention-models/keras_cv_attention_models-1.3.9-py3-none-any.whl"
   ]
  },
  {
   "cell_type": "code",
   "execution_count": 2,
   "id": "581f9939",
   "metadata": {
    "_cell_guid": "b1076dfc-b9ad-4769-8c92-a6c4dae69d19",
    "_uuid": "8f2839f25d086af736a60e9eeb907d3b93b6e0e5",
    "execution": {
     "iopub.execute_input": "2023-02-24T13:15:49.518906Z",
     "iopub.status.busy": "2023-02-24T13:15:49.518519Z",
     "iopub.status.idle": "2023-02-24T13:16:50.168365Z",
     "shell.execute_reply": "2023-02-24T13:16:50.167039Z"
    },
    "papermill": {
     "duration": 60.669781,
     "end_time": "2023-02-24T13:16:50.170854",
     "exception": false,
     "start_time": "2023-02-24T13:15:49.501073",
     "status": "completed"
    },
    "tags": []
   },
   "outputs": [
    {
     "name": "stdout",
     "output_type": "stream",
     "text": [
      "\u001b[33mWARNING: Running pip as the 'root' user can result in broken permissions and conflicting behaviour with the system package manager. It is recommended to use a virtual environment instead: https://pip.pypa.io/warnings/venv\u001b[0m\u001b[33m\r\n",
      "\u001b[0m\u001b[33mWARNING: Running pip as the 'root' user can result in broken permissions and conflicting behaviour with the system package manager. It is recommended to use a virtual environment instead: https://pip.pypa.io/warnings/venv\u001b[0m\u001b[33m\r\n",
      "\u001b[0m\u001b[33mWARNING: Running pip as the 'root' user can result in broken permissions and conflicting behaviour with the system package manager. It is recommended to use a virtual environment instead: https://pip.pypa.io/warnings/venv\u001b[0m\u001b[33m\r\n",
      "\u001b[0m\u001b[33mWARNING: Running pip as the 'root' user can result in broken permissions and conflicting behaviour with the system package manager. It is recommended to use a virtual environment instead: https://pip.pypa.io/warnings/venv\u001b[0m\u001b[33m\r\n",
      "\u001b[0m\u001b[33mWARNING: Running pip as the 'root' user can result in broken permissions and conflicting behaviour with the system package manager. It is recommended to use a virtual environment instead: https://pip.pypa.io/warnings/venv\u001b[0m\u001b[33m\r\n",
      "\u001b[0m\u001b[33mWARNING: Running pip as the 'root' user can result in broken permissions and conflicting behaviour with the system package manager. It is recommended to use a virtual environment instead: https://pip.pypa.io/warnings/venv\u001b[0m\u001b[33m\r\n",
      "\u001b[0m"
     ]
    }
   ],
   "source": [
    "!pip install -q timm==0.6.5 --no-index --find-links=/kaggle/input/rsna-bc-pip-requirements\n",
    "!pip install -q albumentations==1.2.1 --no-index --find-links=/kaggle/input/rsna-bc-pip-requirements\n",
    "!pip install -q pylibjpeg-libjpeg==1.3.1 --no-index --find-links=/kaggle/input/rsna-bc-pip-requirements\n",
    "!pip install -q pydicom==2.0.0 --no-index --find-links=/kaggle/input/rsna-bc-pip-requirements\n",
    "!pip install -q python-gdcm==3.0.20 --no-index --find-links=/kaggle/input/rsna-bc-pip-requirements\n",
    "!pip install -q dicomsdl==0.109.1 --no-index --find-links=/kaggle/input/rsna-bc-pip-requirements"
   ]
  },
  {
   "cell_type": "markdown",
   "id": "c8ed1dca",
   "metadata": {
    "papermill": {
     "duration": 0.01017,
     "end_time": "2023-02-24T13:16:50.191876",
     "exception": false,
     "start_time": "2023-02-24T13:16:50.181706",
     "status": "completed"
    },
    "tags": []
   },
   "source": [
    "Then we install the latest DALI packaging which we will use for GPU decoding"
   ]
  },
  {
   "cell_type": "code",
   "execution_count": 3,
   "id": "5cc1a8dc",
   "metadata": {
    "execution": {
     "iopub.execute_input": "2023-02-24T13:16:50.213729Z",
     "iopub.status.busy": "2023-02-24T13:16:50.213374Z",
     "iopub.status.idle": "2023-02-24T13:17:32.890847Z",
     "shell.execute_reply": "2023-02-24T13:17:32.889726Z"
    },
    "papermill": {
     "duration": 42.691569,
     "end_time": "2023-02-24T13:17:32.893624",
     "exception": false,
     "start_time": "2023-02-24T13:16:50.202055",
     "status": "completed"
    },
    "tags": []
   },
   "outputs": [
    {
     "name": "stdout",
     "output_type": "stream",
     "text": [
      "\u001b[33mWARNING: Running pip as the 'root' user can result in broken permissions and conflicting behaviour with the system package manager. It is recommended to use a virtual environment instead: https://pip.pypa.io/warnings/venv\u001b[0m\u001b[33m\r\n",
      "\u001b[0m\u001b[33mWARNING: There was an error checking the latest version of pip.\u001b[0m\u001b[33m\r\n",
      "\u001b[0m"
     ]
    }
   ],
   "source": [
    "!pip install -q /kaggle/input/nvidia-dali-nightly-cuda110-1230dev/nvidia_dali_nightly_cuda110-1.23.0.dev20230203-7187866-py3-none-manylinux2014_x86_64.whl"
   ]
  },
  {
   "cell_type": "markdown",
   "id": "b8fcaabc",
   "metadata": {
    "papermill": {
     "duration": 0.010075,
     "end_time": "2023-02-24T13:17:32.914487",
     "exception": false,
     "start_time": "2023-02-24T13:17:32.904412",
     "status": "completed"
    },
    "tags": []
   },
   "source": [
    "Next, we import all the packages we need and patch a function to allow for INT16 support"
   ]
  },
  {
   "cell_type": "code",
   "execution_count": 4,
   "id": "338da23e",
   "metadata": {
    "execution": {
     "iopub.execute_input": "2023-02-24T13:17:32.936444Z",
     "iopub.status.busy": "2023-02-24T13:17:32.936106Z",
     "iopub.status.idle": "2023-02-24T13:17:38.082789Z",
     "shell.execute_reply": "2023-02-24T13:17:38.081710Z"
    },
    "papermill": {
     "duration": 5.160624,
     "end_time": "2023-02-24T13:17:38.085307",
     "exception": false,
     "start_time": "2023-02-24T13:17:32.924683",
     "status": "completed"
    },
    "tags": []
   },
   "outputs": [],
   "source": [
    "import timm\n",
    "import numpy as np # linear algebra\n",
    "import pandas as pd # data processing, CSV file I/O (e.g. pd.read_csv)\n",
    "\n",
    "import os\n",
    "from copy import copy\n",
    "import gc\n",
    "import shutil \n",
    "\n",
    "import glob\n",
    "from scipy.special import expit\n",
    "\n",
    "import albumentations as A\n",
    "import cv2\n",
    "cv2.setNumThreads(0)\n",
    "\n",
    "import dicomsdl\n",
    "import pydicom\n",
    "from pydicom.filebase import DicomBytesIO\n",
    "\n",
    "from os.path import join\n",
    "\n",
    "from tqdm import tqdm\n",
    "\n",
    "from joblib import Parallel, delayed\n",
    "import multiprocessing as mp\n",
    "\n",
    "from types import SimpleNamespace\n",
    "from typing import Any, Dict\n",
    "\n",
    "import torch\n",
    "import torch.nn.functional as F\n",
    "from torch import nn\n",
    "from torch.nn.parameter import Parameter\n",
    "from torch.utils.data import Dataset, DataLoader\n",
    "from torch.cuda.amp import GradScaler, autocast\n",
    "\n",
    "\n",
    "import nvidia.dali.fn as fn\n",
    "import nvidia.dali.types as types\n",
    "from nvidia.dali import pipeline_def\n",
    "from nvidia.dali.types import DALIDataType"
   ]
  },
  {
   "cell_type": "code",
   "execution_count": 5,
   "id": "53c1161f",
   "metadata": {
    "execution": {
     "iopub.execute_input": "2023-02-24T13:17:38.108526Z",
     "iopub.status.busy": "2023-02-24T13:17:38.108002Z",
     "iopub.status.idle": "2023-02-24T13:17:38.121530Z",
     "shell.execute_reply": "2023-02-24T13:17:38.120637Z"
    },
    "papermill": {
     "duration": 0.027559,
     "end_time": "2023-02-24T13:17:38.123566",
     "exception": false,
     "start_time": "2023-02-24T13:17:38.096007",
     "status": "completed"
    },
    "tags": []
   },
   "outputs": [],
   "source": [
    "#we need to patch DALI for Int16 support\n",
    "\n",
    "\n",
    "from nvidia.dali.backend import TensorGPU, TensorListGPU\n",
    "from nvidia.dali.pipeline import Pipeline\n",
    "import nvidia.dali.ops as ops\n",
    "from nvidia.dali import types\n",
    "from nvidia.dali.plugin.base_iterator import _DaliBaseIterator\n",
    "from nvidia.dali.plugin.base_iterator import LastBatchPolicy\n",
    "import torch\n",
    "import torch.utils.dlpack as torch_dlpack\n",
    "import ctypes\n",
    "import numpy as np\n",
    "import torch.nn.functional as F\n",
    "import pydicom\n",
    "\n",
    "to_torch_type = {\n",
    "    types.DALIDataType.FLOAT:   torch.float32,\n",
    "    types.DALIDataType.FLOAT64: torch.float64,\n",
    "    types.DALIDataType.FLOAT16: torch.float16,\n",
    "    types.DALIDataType.UINT8:   torch.uint8,\n",
    "    types.DALIDataType.INT8:    torch.int8,\n",
    "    types.DALIDataType.UINT16:  torch.int16,\n",
    "    types.DALIDataType.INT16:   torch.int16,\n",
    "    types.DALIDataType.INT32:   torch.int32,\n",
    "    types.DALIDataType.INT64:   torch.int64\n",
    "}\n",
    "\n",
    "\n",
    "def feed_ndarray(dali_tensor, arr, cuda_stream=None):\n",
    "    \"\"\"\n",
    "    Copy contents of DALI tensor to PyTorch's Tensor.\n",
    "\n",
    "    Parameters\n",
    "    ----------\n",
    "    `dali_tensor` : nvidia.dali.backend.TensorCPU or nvidia.dali.backend.TensorGPU\n",
    "                    Tensor from which to copy\n",
    "    `arr` : torch.Tensor\n",
    "            Destination of the copy\n",
    "    `cuda_stream` : torch.cuda.Stream, cudaStream_t or any value that can be cast to cudaStream_t.\n",
    "                    CUDA stream to be used for the copy\n",
    "                    (if not provided, an internal user stream will be selected)\n",
    "                    In most cases, using pytorch's current stream is expected (for example,\n",
    "                    if we are copying to a tensor allocated with torch.zeros(...))\n",
    "    \"\"\"\n",
    "    dali_type = to_torch_type[dali_tensor.dtype]\n",
    "\n",
    "    assert dali_type == arr.dtype, (\"The element type of DALI Tensor/TensorList\"\n",
    "                                    \" doesn't match the element type of the target PyTorch Tensor: \"\n",
    "                                    \"{} vs {}\".format(dali_type, arr.dtype))\n",
    "    assert dali_tensor.shape() == list(arr.size()), \\\n",
    "        (\"Shapes do not match: DALI tensor has size {0}, but PyTorch Tensor has size {1}\".\n",
    "            format(dali_tensor.shape(), list(arr.size())))\n",
    "    cuda_stream = types._raw_cuda_stream(cuda_stream)\n",
    "\n",
    "    # turn raw int to a c void pointer\n",
    "    c_type_pointer = ctypes.c_void_p(arr.data_ptr())\n",
    "    if isinstance(dali_tensor, (TensorGPU, TensorListGPU)):\n",
    "        stream = None if cuda_stream is None else ctypes.c_void_p(cuda_stream)\n",
    "        dali_tensor.copy_to_external(c_type_pointer, stream, non_blocking=True)\n",
    "    else:\n",
    "        dali_tensor.copy_to_external(c_type_pointer)\n",
    "    return arr\n",
    "\n",
    "\n",
    "\n"
   ]
  },
  {
   "cell_type": "markdown",
   "id": "156646f4",
   "metadata": {
    "papermill": {
     "duration": 0.009963,
     "end_time": "2023-02-24T13:17:38.143769",
     "exception": false,
     "start_time": "2023-02-24T13:17:38.133806",
     "status": "completed"
    },
    "tags": []
   },
   "source": [
    "Next I set major variables which handle the public run and the re-run on the hidden test set, and also allow for simulating the size of the hidden test set by setting RAM_CHECK = True"
   ]
  },
  {
   "cell_type": "code",
   "execution_count": 6,
   "id": "f98f5a09",
   "metadata": {
    "execution": {
     "iopub.execute_input": "2023-02-24T13:17:38.166060Z",
     "iopub.status.busy": "2023-02-24T13:17:38.165235Z",
     "iopub.status.idle": "2023-02-24T13:17:38.394999Z",
     "shell.execute_reply": "2023-02-24T13:17:38.394013Z"
    },
    "papermill": {
     "duration": 0.243125,
     "end_time": "2023-02-24T13:17:38.397107",
     "exception": false,
     "start_time": "2023-02-24T13:17:38.153982",
     "status": "completed"
    },
    "tags": []
   },
   "outputs": [
    {
     "data": {
      "text/html": [
       "<div>\n",
       "<style scoped>\n",
       "    .dataframe tbody tr th:only-of-type {\n",
       "        vertical-align: middle;\n",
       "    }\n",
       "\n",
       "    .dataframe tbody tr th {\n",
       "        vertical-align: top;\n",
       "    }\n",
       "\n",
       "    .dataframe thead th {\n",
       "        text-align: right;\n",
       "    }\n",
       "</style>\n",
       "<table border=\"1\" class=\"dataframe\">\n",
       "  <thead>\n",
       "    <tr style=\"text-align: right;\">\n",
       "      <th></th>\n",
       "      <th>site_id</th>\n",
       "      <th>patient_id</th>\n",
       "      <th>image_id</th>\n",
       "      <th>laterality</th>\n",
       "      <th>view</th>\n",
       "      <th>age</th>\n",
       "      <th>cancer</th>\n",
       "      <th>biopsy</th>\n",
       "      <th>invasive</th>\n",
       "      <th>BIRADS</th>\n",
       "      <th>implant</th>\n",
       "      <th>density</th>\n",
       "      <th>machine_id</th>\n",
       "      <th>difficult_negative_case</th>\n",
       "    </tr>\n",
       "  </thead>\n",
       "  <tbody>\n",
       "    <tr>\n",
       "      <th>0</th>\n",
       "      <td>2</td>\n",
       "      <td>10006</td>\n",
       "      <td>462822612</td>\n",
       "      <td>L</td>\n",
       "      <td>CC</td>\n",
       "      <td>61.0</td>\n",
       "      <td>0</td>\n",
       "      <td>0</td>\n",
       "      <td>0</td>\n",
       "      <td>NaN</td>\n",
       "      <td>0</td>\n",
       "      <td>NaN</td>\n",
       "      <td>29</td>\n",
       "      <td>False</td>\n",
       "    </tr>\n",
       "    <tr>\n",
       "      <th>1</th>\n",
       "      <td>2</td>\n",
       "      <td>10006</td>\n",
       "      <td>1459541791</td>\n",
       "      <td>L</td>\n",
       "      <td>MLO</td>\n",
       "      <td>61.0</td>\n",
       "      <td>0</td>\n",
       "      <td>0</td>\n",
       "      <td>0</td>\n",
       "      <td>NaN</td>\n",
       "      <td>0</td>\n",
       "      <td>NaN</td>\n",
       "      <td>29</td>\n",
       "      <td>False</td>\n",
       "    </tr>\n",
       "    <tr>\n",
       "      <th>2</th>\n",
       "      <td>2</td>\n",
       "      <td>10006</td>\n",
       "      <td>1864590858</td>\n",
       "      <td>R</td>\n",
       "      <td>MLO</td>\n",
       "      <td>61.0</td>\n",
       "      <td>0</td>\n",
       "      <td>0</td>\n",
       "      <td>0</td>\n",
       "      <td>NaN</td>\n",
       "      <td>0</td>\n",
       "      <td>NaN</td>\n",
       "      <td>29</td>\n",
       "      <td>False</td>\n",
       "    </tr>\n",
       "    <tr>\n",
       "      <th>3</th>\n",
       "      <td>2</td>\n",
       "      <td>10006</td>\n",
       "      <td>1874946579</td>\n",
       "      <td>R</td>\n",
       "      <td>CC</td>\n",
       "      <td>61.0</td>\n",
       "      <td>0</td>\n",
       "      <td>0</td>\n",
       "      <td>0</td>\n",
       "      <td>NaN</td>\n",
       "      <td>0</td>\n",
       "      <td>NaN</td>\n",
       "      <td>29</td>\n",
       "      <td>False</td>\n",
       "    </tr>\n",
       "    <tr>\n",
       "      <th>4</th>\n",
       "      <td>2</td>\n",
       "      <td>10011</td>\n",
       "      <td>220375232</td>\n",
       "      <td>L</td>\n",
       "      <td>CC</td>\n",
       "      <td>55.0</td>\n",
       "      <td>0</td>\n",
       "      <td>0</td>\n",
       "      <td>0</td>\n",
       "      <td>0.0</td>\n",
       "      <td>0</td>\n",
       "      <td>NaN</td>\n",
       "      <td>21</td>\n",
       "      <td>True</td>\n",
       "    </tr>\n",
       "    <tr>\n",
       "      <th>...</th>\n",
       "      <td>...</td>\n",
       "      <td>...</td>\n",
       "      <td>...</td>\n",
       "      <td>...</td>\n",
       "      <td>...</td>\n",
       "      <td>...</td>\n",
       "      <td>...</td>\n",
       "      <td>...</td>\n",
       "      <td>...</td>\n",
       "      <td>...</td>\n",
       "      <td>...</td>\n",
       "      <td>...</td>\n",
       "      <td>...</td>\n",
       "      <td>...</td>\n",
       "    </tr>\n",
       "    <tr>\n",
       "      <th>1495</th>\n",
       "      <td>1</td>\n",
       "      <td>11575</td>\n",
       "      <td>2120330769</td>\n",
       "      <td>R</td>\n",
       "      <td>CC</td>\n",
       "      <td>44.0</td>\n",
       "      <td>0</td>\n",
       "      <td>0</td>\n",
       "      <td>0</td>\n",
       "      <td>1.0</td>\n",
       "      <td>0</td>\n",
       "      <td>C</td>\n",
       "      <td>49</td>\n",
       "      <td>False</td>\n",
       "    </tr>\n",
       "    <tr>\n",
       "      <th>1496</th>\n",
       "      <td>1</td>\n",
       "      <td>11583</td>\n",
       "      <td>376242680</td>\n",
       "      <td>L</td>\n",
       "      <td>MLO</td>\n",
       "      <td>61.0</td>\n",
       "      <td>0</td>\n",
       "      <td>0</td>\n",
       "      <td>0</td>\n",
       "      <td>NaN</td>\n",
       "      <td>0</td>\n",
       "      <td>B</td>\n",
       "      <td>49</td>\n",
       "      <td>False</td>\n",
       "    </tr>\n",
       "    <tr>\n",
       "      <th>1497</th>\n",
       "      <td>1</td>\n",
       "      <td>11583</td>\n",
       "      <td>1044545235</td>\n",
       "      <td>L</td>\n",
       "      <td>MLO</td>\n",
       "      <td>61.0</td>\n",
       "      <td>0</td>\n",
       "      <td>0</td>\n",
       "      <td>0</td>\n",
       "      <td>NaN</td>\n",
       "      <td>0</td>\n",
       "      <td>B</td>\n",
       "      <td>49</td>\n",
       "      <td>False</td>\n",
       "    </tr>\n",
       "    <tr>\n",
       "      <th>1498</th>\n",
       "      <td>1</td>\n",
       "      <td>11583</td>\n",
       "      <td>1338884652</td>\n",
       "      <td>L</td>\n",
       "      <td>CC</td>\n",
       "      <td>61.0</td>\n",
       "      <td>0</td>\n",
       "      <td>0</td>\n",
       "      <td>0</td>\n",
       "      <td>NaN</td>\n",
       "      <td>0</td>\n",
       "      <td>B</td>\n",
       "      <td>49</td>\n",
       "      <td>False</td>\n",
       "    </tr>\n",
       "    <tr>\n",
       "      <th>1499</th>\n",
       "      <td>1</td>\n",
       "      <td>11583</td>\n",
       "      <td>683301387</td>\n",
       "      <td>R</td>\n",
       "      <td>CC</td>\n",
       "      <td>61.0</td>\n",
       "      <td>0</td>\n",
       "      <td>0</td>\n",
       "      <td>0</td>\n",
       "      <td>0.0</td>\n",
       "      <td>0</td>\n",
       "      <td>B</td>\n",
       "      <td>49</td>\n",
       "      <td>True</td>\n",
       "    </tr>\n",
       "  </tbody>\n",
       "</table>\n",
       "<p>1500 rows × 14 columns</p>\n",
       "</div>"
      ],
      "text/plain": [
       "      site_id  patient_id    image_id laterality view   age  cancer  biopsy  \\\n",
       "0           2       10006   462822612          L   CC  61.0       0       0   \n",
       "1           2       10006  1459541791          L  MLO  61.0       0       0   \n",
       "2           2       10006  1864590858          R  MLO  61.0       0       0   \n",
       "3           2       10006  1874946579          R   CC  61.0       0       0   \n",
       "4           2       10011   220375232          L   CC  55.0       0       0   \n",
       "...       ...         ...         ...        ...  ...   ...     ...     ...   \n",
       "1495        1       11575  2120330769          R   CC  44.0       0       0   \n",
       "1496        1       11583   376242680          L  MLO  61.0       0       0   \n",
       "1497        1       11583  1044545235          L  MLO  61.0       0       0   \n",
       "1498        1       11583  1338884652          L   CC  61.0       0       0   \n",
       "1499        1       11583   683301387          R   CC  61.0       0       0   \n",
       "\n",
       "      invasive  BIRADS  implant density  machine_id  difficult_negative_case  \n",
       "0            0     NaN        0     NaN          29                    False  \n",
       "1            0     NaN        0     NaN          29                    False  \n",
       "2            0     NaN        0     NaN          29                    False  \n",
       "3            0     NaN        0     NaN          29                    False  \n",
       "4            0     0.0        0     NaN          21                     True  \n",
       "...        ...     ...      ...     ...         ...                      ...  \n",
       "1495         0     1.0        0       C          49                    False  \n",
       "1496         0     NaN        0       B          49                    False  \n",
       "1497         0     NaN        0       B          49                    False  \n",
       "1498         0     NaN        0       B          49                    False  \n",
       "1499         0     0.0        0       B          49                     True  \n",
       "\n",
       "[1500 rows x 14 columns]"
      ]
     },
     "execution_count": 6,
     "metadata": {},
     "output_type": "execute_result"
    }
   ],
   "source": [
    "# Params\n",
    "\n",
    "CROP_IMAGE_1st = False\n",
    "CROP_IMAGE_2nd = True\n",
    "\n",
    "COMP_FOLDER = '/kaggle/input/rsna-breast-cancer-detection/'\n",
    "DATA_FOLDER = COMP_FOLDER + 'test_images/'\n",
    "\n",
    "sample_submission = pd.read_csv(COMP_FOLDER + 'sample_submission.csv')\n",
    "\n",
    "PUBLIC_RUN = len(sample_submission) == 2\n",
    "\n",
    "N_CORES = mp.cpu_count()\n",
    "MIXED_PRECISION = False\n",
    "DEVICE = 'cuda' if torch.cuda.is_available() else 'cpu'\n",
    "\n",
    "RAM_CHECK = True\n",
    "DEBUG = True\n",
    "\n",
    "test_df = pd.read_csv('/kaggle/input/rsna-breast-cancer-detection/test.csv')\n",
    "test_df['cancer'] = 0 #dummy value\n",
    "\n",
    "\n",
    "if PUBLIC_RUN is False:\n",
    "    RAM_CHECK = False\n",
    "    DEBUG = False\n",
    "\n",
    "if RAM_CHECK is True:\n",
    "    test_df = pd.read_csv('/kaggle/input/rsna-breast-cancer-detection/train.csv')\n",
    "    patient_filter = list(sorted((set(test_df.patient_id.unique()))))[:8000]\n",
    "    test_df = test_df[test_df.patient_id.isin(patient_filter)]\n",
    "    DATA_FOLDER = DATA_FOLDER.replace('test','train')\n",
    "\n",
    "if DEBUG is True:\n",
    "    test_df = test_df.head(1500)\n",
    "\n",
    "test_df"
   ]
  },
  {
   "cell_type": "code",
   "execution_count": 7,
   "id": "3275072f",
   "metadata": {
    "execution": {
     "iopub.execute_input": "2023-02-24T13:17:38.420567Z",
     "iopub.status.busy": "2023-02-24T13:17:38.419729Z",
     "iopub.status.idle": "2023-02-24T13:17:38.427524Z",
     "shell.execute_reply": "2023-02-24T13:17:38.426343Z"
    },
    "papermill": {
     "duration": 0.02122,
     "end_time": "2023-02-24T13:17:38.429423",
     "exception": false,
     "start_time": "2023-02-24T13:17:38.408203",
     "status": "completed"
    },
    "tags": []
   },
   "outputs": [
    {
     "name": "stdout",
     "output_type": "stream",
     "text": [
      "Len df : 1500\n"
     ]
    },
    {
     "data": {
      "text/plain": [
       "328"
      ]
     },
     "execution_count": 7,
     "metadata": {},
     "output_type": "execute_result"
    }
   ],
   "source": [
    "print(f'Len df : {len(test_df)}')\n",
    "test_df['patient_id'].nunique()"
   ]
  },
  {
   "cell_type": "code",
   "execution_count": 8,
   "id": "af87c53b",
   "metadata": {
    "execution": {
     "iopub.execute_input": "2023-02-24T13:17:38.452201Z",
     "iopub.status.busy": "2023-02-24T13:17:38.451898Z",
     "iopub.status.idle": "2023-02-24T13:17:38.460200Z",
     "shell.execute_reply": "2023-02-24T13:17:38.459259Z"
    },
    "papermill": {
     "duration": 0.022025,
     "end_time": "2023-02-24T13:17:38.462140",
     "exception": false,
     "start_time": "2023-02-24T13:17:38.440115",
     "status": "completed"
    },
    "tags": []
   },
   "outputs": [],
   "source": [
    "test_df[\"fns\"] = test_df['patient_id'].astype(str) + '/' + test_df['image_id'].astype(str) + '.dcm'"
   ]
  },
  {
   "cell_type": "markdown",
   "id": "bcbe152e",
   "metadata": {
    "papermill": {
     "duration": 0.01046,
     "end_time": "2023-02-24T13:17:38.483273",
     "exception": false,
     "start_time": "2023-02-24T13:17:38.472813",
     "status": "completed"
    },
    "tags": []
   },
   "source": [
    "Next, we define the function for GPU-based decoding using DALI and processing the dicom images"
   ]
  },
  {
   "cell_type": "code",
   "execution_count": 9,
   "id": "4d146f73",
   "metadata": {
    "execution": {
     "iopub.execute_input": "2023-02-24T13:17:38.506176Z",
     "iopub.status.busy": "2023-02-24T13:17:38.505864Z",
     "iopub.status.idle": "2023-02-24T13:17:38.530967Z",
     "shell.execute_reply": "2023-02-24T13:17:38.530009Z"
    },
    "papermill": {
     "duration": 0.039067,
     "end_time": "2023-02-24T13:17:38.533000",
     "exception": false,
     "start_time": "2023-02-24T13:17:38.493933",
     "status": "completed"
    },
    "tags": []
   },
   "outputs": [],
   "source": [
    "# Smooth vector used to smoothen sums/stds of axes\n",
    "def smooth(l):\n",
    "    # kernel size is 1% of vector\n",
    "    kernel_size = int(len(l) * 0.01)\n",
    "    kernel = np.ones(kernel_size) / kernel_size\n",
    "    return np.convolve(l, kernel, mode='same')\n",
    "\n",
    "# X Crop offset based on first column with sum below 5% of maximum column sums*std\n",
    "def get_x_offset(image, max_col_sum_ratio_threshold=0.05, debug=None):\n",
    "    # Image Dimensions\n",
    "    H, W = image.shape\n",
    "    # Percentual margin added to offset\n",
    "    margin = int(image.shape[1] * 0.00)\n",
    "    # Threshold values based on smoothed sum x std to capture varying intensity columns\n",
    "    vv = smooth(image.sum(axis=0).squeeze()) * smooth(image.std(axis=0).squeeze())\n",
    "    # Find maximum sum in first 75% of columns\n",
    "    vv_argmax = vv[:int(image.shape[1] * 0.75)].argmax()\n",
    "    # Threshold value\n",
    "    vv_threshold = vv.max() * max_col_sum_ratio_threshold\n",
    "    \n",
    "    # Find first column after maximum column below threshold value\n",
    "    for offset, v in enumerate(vv):\n",
    "        # Start searching from vv_argmax\n",
    "        if offset < vv_argmax:\n",
    "            continue\n",
    "        \n",
    "        # Column below threshold value found\n",
    "        if v < vv_threshold:\n",
    "            offset = min(W, offset + margin)\n",
    "            break\n",
    "            \n",
    "    if isinstance(debug, np.ndarray):\n",
    "        debug[1].imshow(image)\n",
    "        debug[1].set_title('X Offset')\n",
    "        vv_scale = H / vv.max() * 0.90\n",
    "        # Values\n",
    "        debug[1].plot(H - vv * vv_scale , c='red', label='vv')\n",
    "        # Threshold\n",
    "        debug[1].hlines(H - vv_threshold * vv_scale, 0, W -1, colors='orange', label='threshold')\n",
    "        # Max Value\n",
    "        debug[1].scatter(vv_argmax, H - vv[vv_argmax] * vv_scale, c='blue', s=100, label='Max', zorder=np.PINF)\n",
    "        # First Column Below Threshold\n",
    "        debug[1].scatter(offset, H - vv[offset] * vv_scale, c='purple', s=100, label='Offset', zorder=np.PINF)\n",
    "        debug[1].set_ylim(H, 0)\n",
    "        debug[1].legend()\n",
    "        debug[1].axis('off')\n",
    "        \n",
    "    return offset\n",
    "\n",
    "# Y Crop offset based on first bottom and top rows with sum below 10% of maximum row sum*std\n",
    "def get_y_offsets(image, max_row_sum_ratio_threshold=0.10, debug=None):\n",
    "    # Image Dimensions\n",
    "    H, W = image.shape\n",
    "    # Margin to add to offsets\n",
    "    margin = 0\n",
    "    # Threshold values based on smoothed sum x std to capture varying intensity columns\n",
    "    vv = smooth(image.sum(axis=1).squeeze()) * smooth(image.std(axis=1).squeeze())\n",
    "    # Find maximum sum * std row in inter quartile rows\n",
    "    vv_argmax = int(image.shape[0] * 0.25) + vv[int(image.shape[0] * 0.25):int(image.shape[0] * 0.75)].argmax()\n",
    "    # Threshold value\n",
    "    vv_threshold = vv.max() * max_row_sum_ratio_threshold\n",
    "    # Default crop offsets\n",
    "    offset_bottom = 0\n",
    "    offset_top = H\n",
    "\n",
    "    # Bottom offset, search from argmax to bottom\n",
    "    for offset in reversed(range(0, vv_argmax)):\n",
    "        v = vv[offset]\n",
    "        if v < vv_threshold:\n",
    "            offset_bottom = offset\n",
    "            break\n",
    "    \n",
    "    if isinstance(debug, np.ndarray):\n",
    "        debug[2].imshow(image)\n",
    "        debug[2].set_title('Y Bottom Offset')\n",
    "        vv_scale = W / vv.max() * 0.90\n",
    "        # Values\n",
    "        debug[2].plot(vv * vv_scale, np.arange(H), c='red', label='vv')\n",
    "        # Threshold\n",
    "        debug[2].vlines(vv_threshold * vv_scale, 0, H -1, colors='orange', label='threshold')\n",
    "        # Max Value\n",
    "        debug[2].scatter(vv[vv_argmax] * vv_scale, vv_argmax, c='blue', s=100, label='Max', zorder=np.PINF)\n",
    "        # First Column Below Threshold\n",
    "        debug[2].scatter(vv[offset_bottom] * vv_scale, offset_bottom, c='purple', s=100, label='Offset', zorder=np.PINF)\n",
    "        debug[2].set_ylim(H, 0)\n",
    "        debug[2].legend()\n",
    "        debug[2].axis('off')\n",
    "            \n",
    "    # Top offset, search from argmax to top\n",
    "    for offset in range(vv_argmax, H):\n",
    "        v = vv[offset]\n",
    "        if v < vv_threshold:\n",
    "            offset_top = offset\n",
    "            break\n",
    "            \n",
    "    if isinstance(debug, np.ndarray):\n",
    "        debug[3].imshow(image)\n",
    "        debug[3].set_title('Y Top Offset')\n",
    "        vv_scale = W / vv.max() * 0.90\n",
    "        # Values\n",
    "        debug[3].plot(vv * vv_scale, np.arange(H) , c='red', label='vv')\n",
    "        # Threshold\n",
    "        debug[3].vlines(vv_threshold * vv_scale, 0, H -1, colors='orange', label='threshold')\n",
    "        # Max Value\n",
    "        debug[3].scatter(vv[vv_argmax] * vv_scale, vv_argmax, c='blue', s=100, label='Max', zorder=np.PINF)\n",
    "        # First Column Below Threshold\n",
    "        debug[3].scatter(vv[offset_top] * vv_scale, offset_top, c='purple', s=100, label='Offset', zorder=np.PINF)\n",
    "        debug[2].set_ylim(H, 0)\n",
    "        debug[3].legend()\n",
    "        debug[3].axis('off')\n",
    "            \n",
    "    return max(0, offset_bottom - margin), min(image.shape[0], offset_top + margin)\n",
    "\n",
    "# Crop image and pad offsets to target image height/width ratio to preserve information\n",
    "def crop(image, size=None, debug=False):\n",
    "    # Image dimensions\n",
    "    H, W = image.shape\n",
    "    # Compute x/bottom/top offsets\n",
    "    x_offset = get_x_offset(image, debug=debug)\n",
    "    offset_bottom, offset_top = get_y_offsets(image[:,:x_offset], debug=debug)\n",
    "    # Crop Height and Width\n",
    "    h_crop = offset_top - offset_bottom\n",
    "    w_crop = x_offset\n",
    "    \n",
    "    # Pad crop offsets to target aspect ratio\n",
    "    if size is not None:\n",
    "        # Height too large, pad x offset\n",
    "        if (h_crop / w_crop) > TARGET_HEIGHT_WIDTH_RATIO:\n",
    "            x_offset += int(h_crop / TARGET_HEIGHT_WIDTH_RATIO - w_crop)\n",
    "        else:\n",
    "            # Height too small, pad bottom/top offsets\n",
    "            offset_bottom -= int(0.50 * (w_crop * TARGET_HEIGHT_WIDTH_RATIO - h_crop))\n",
    "            offset_bottom_correction = max(0, -offset_bottom)\n",
    "            offset_bottom += offset_bottom_correction\n",
    "\n",
    "            offset_top += int(0.50 * (w_crop * TARGET_HEIGHT_WIDTH_RATIO - h_crop))\n",
    "            offset_top += offset_bottom_correction\n",
    "        \n",
    "    # Crop Image\n",
    "    image = image[offset_bottom:offset_top:,:x_offset]\n",
    "        \n",
    "    return image"
   ]
  },
  {
   "cell_type": "code",
   "execution_count": 10,
   "id": "8f619cbf",
   "metadata": {
    "execution": {
     "iopub.execute_input": "2023-02-24T13:17:38.555534Z",
     "iopub.status.busy": "2023-02-24T13:17:38.555257Z",
     "iopub.status.idle": "2023-02-24T13:17:38.569219Z",
     "shell.execute_reply": "2023-02-24T13:17:38.568343Z"
    },
    "papermill": {
     "duration": 0.027569,
     "end_time": "2023-02-24T13:17:38.571231",
     "exception": false,
     "start_time": "2023-02-24T13:17:38.543662",
     "status": "completed"
    },
    "tags": []
   },
   "outputs": [],
   "source": [
    "def convert_dicom_to_jpg(file, save_folder=\"\"):\n",
    "    patient = file.split('/')[-2]\n",
    "    image = file.split('/')[-1][:-4]\n",
    "    dcmfile = pydicom.dcmread(file)\n",
    "\n",
    "    if dcmfile.file_meta.TransferSyntaxUID == '1.2.840.10008.1.2.4.90':\n",
    "        with open(file, 'rb') as fp:\n",
    "            raw = DicomBytesIO(fp.read())\n",
    "            ds = pydicom.dcmread(raw)\n",
    "        offset = ds.PixelData.find(b\"\\x00\\x00\\x00\\x0C\")  #<---- the jpeg2000 header info we're looking for\n",
    "        hackedbitstream = bytearray()\n",
    "        hackedbitstream.extend(ds.PixelData[offset:])\n",
    "        with open(save_folder + f\"{patient}_{image}.jpg\", \"wb\") as binary_file:\n",
    "            binary_file.write(hackedbitstream)\n",
    "            \n",
    "    if dcmfile.file_meta.TransferSyntaxUID == '1.2.840.10008.1.2.4.70':\n",
    "        with open(file, 'rb') as fp:\n",
    "            raw = DicomBytesIO(fp.read())\n",
    "            ds = pydicom.dcmread(raw)\n",
    "        offset = ds.PixelData.find(b\"\\xff\\xd8\\xff\\xe0\")  #<---- the jpeg lossless header info we're looking for\n",
    "        hackedbitstream = bytearray()\n",
    "        hackedbitstream.extend(ds.PixelData[offset:])\n",
    "        with open(save_folder + f\"{patient}_{image}.jpg\", \"wb\") as binary_file:\n",
    "            binary_file.write(hackedbitstream)\n",
    "\n",
    "            \n",
    "@pipeline_def\n",
    "def jpg_decode_pipeline(jpgfiles):\n",
    "    jpegs, _ = fn.readers.file(files=jpgfiles)\n",
    "    images = fn.experimental.decoders.image(jpegs, device='mixed', output_type=types.ANY_DATA, dtype=DALIDataType.UINT16)\n",
    "    return images\n",
    "\n",
    "def parse_window_element(elem):\n",
    "    if type(elem)==list:\n",
    "        return float(elem[0])\n",
    "    if type(elem)==str:\n",
    "        return float(elem)\n",
    "    if type(elem)==float:\n",
    "        return elem\n",
    "    if type(elem)==pydicom.dataelem.DataElement:\n",
    "        try:\n",
    "            return float(elem[0])\n",
    "        except:\n",
    "            return float(elem.value)\n",
    "    return None\n",
    "\n",
    "def linear_window(data, center, width):\n",
    "    lower, upper = center - width // 2, center + width // 2\n",
    "    data = torch.clamp(data, min=lower, max=upper)\n",
    "    return data \n",
    "\n",
    "def process_dicom(img, dicom):\n",
    "    try:\n",
    "        invert = getattr(dicom, \"PhotometricInterpretation\", None) == \"MONOCHROME1\"\n",
    "    except:\n",
    "        invert = False\n",
    "        \n",
    "    center = parse_window_element(dicom[\"WindowCenter\"]) \n",
    "    width = parse_window_element(dicom[\"WindowWidth\"])\n",
    "        \n",
    "    if (center is not None) & (width is not None):\n",
    "        img = linear_window(img, center, width)\n",
    "\n",
    "    img = (img - img.min()) / (img.max() - img.min())\n",
    "    if invert:\n",
    "        img = 1 - img\n",
    "    return img"
   ]
  },
  {
   "cell_type": "code",
   "execution_count": null,
   "id": "83eebeaa",
   "metadata": {
    "papermill": {
     "duration": 0.010478,
     "end_time": "2023-02-24T13:17:38.592344",
     "exception": false,
     "start_time": "2023-02-24T13:17:38.581866",
     "status": "completed"
    },
    "tags": []
   },
   "outputs": [],
   "source": []
  },
  {
   "cell_type": "code",
   "execution_count": 11,
   "id": "a1c4cf29",
   "metadata": {
    "execution": {
     "iopub.execute_input": "2023-02-24T13:17:38.615508Z",
     "iopub.status.busy": "2023-02-24T13:17:38.614691Z",
     "iopub.status.idle": "2023-02-24T13:17:38.620672Z",
     "shell.execute_reply": "2023-02-24T13:17:38.619789Z"
    },
    "papermill": {
     "duration": 0.019653,
     "end_time": "2023-02-24T13:17:38.622621",
     "exception": false,
     "start_time": "2023-02-24T13:17:38.602968",
     "status": "completed"
    },
    "tags": []
   },
   "outputs": [],
   "source": [
    "cfg = SimpleNamespace(**{})\n",
    "cfg.img_size = 1024\n",
    "cfg.backbone = 'seresnext50_32x4d'\n",
    "cfg.pretrained=False\n",
    "cfg.in_channels = 1\n",
    "cfg.classes = ['cancer']\n",
    "cfg.batch_size = 8\n",
    "cfg.data_folder = \"/tmp/output/\"\n",
    "cfg.val_aug = A.CenterCrop(always_apply=False, p=1.0, height=cfg.img_size, width=cfg.img_size)\n",
    "cfg.device = DEVICE"
   ]
  },
  {
   "cell_type": "markdown",
   "id": "629b9dfc",
   "metadata": {
    "execution": {
     "iopub.execute_input": "2023-02-05T07:14:35.534267Z",
     "iopub.status.busy": "2023-02-05T07:14:35.533224Z",
     "iopub.status.idle": "2023-02-05T07:14:35.545681Z",
     "shell.execute_reply": "2023-02-05T07:14:35.544691Z",
     "shell.execute_reply.started": "2023-02-05T07:14:35.534231Z"
    },
    "papermill": {
     "duration": 0.010483,
     "end_time": "2023-02-24T13:17:38.643751",
     "exception": false,
     "start_time": "2023-02-24T13:17:38.633268",
     "status": "completed"
    },
    "tags": []
   },
   "source": [
    "We will process the dicoms in chunks so the disk space does not become an issue. "
   ]
  },
  {
   "cell_type": "code",
   "execution_count": 12,
   "id": "857fd3a3",
   "metadata": {
    "execution": {
     "iopub.execute_input": "2023-02-24T13:17:38.666146Z",
     "iopub.status.busy": "2023-02-24T13:17:38.665841Z",
     "iopub.status.idle": "2023-02-24T13:17:38.672637Z",
     "shell.execute_reply": "2023-02-24T13:17:38.671751Z"
    },
    "papermill": {
     "duration": 0.020186,
     "end_time": "2023-02-24T13:17:38.674559",
     "exception": false,
     "start_time": "2023-02-24T13:17:38.654373",
     "status": "completed"
    },
    "tags": []
   },
   "outputs": [],
   "source": [
    "SAVE_SIZE = int(cfg.img_size * 1.125)\n",
    "SAVE_FOLDER = cfg.data_folder\n",
    "os.makedirs(SAVE_FOLDER, exist_ok=True)\n",
    "N_CHUNKS = len(test_df[\"fns\"]) // 2000 if len(test_df[\"fns\"]) > 2000 else 1\n",
    "CHUNKS = [(len(test_df[\"fns\"]) / N_CHUNKS * k, len(test_df[\"fns\"]) / N_CHUNKS * (k + 1)) for k in range(N_CHUNKS)]\n",
    "CHUNKS = np.array(CHUNKS).astype(int)\n",
    "JPG_FOLDER = \"/tmp/jpg/\""
   ]
  },
  {
   "cell_type": "code",
   "execution_count": 13,
   "id": "3e329e2f",
   "metadata": {
    "execution": {
     "iopub.execute_input": "2023-02-24T13:17:38.698023Z",
     "iopub.status.busy": "2023-02-24T13:17:38.697229Z",
     "iopub.status.idle": "2023-02-24T13:24:18.219340Z",
     "shell.execute_reply": "2023-02-24T13:24:18.217803Z"
    },
    "papermill": {
     "duration": 399.537756,
     "end_time": "2023-02-24T13:24:18.222967",
     "exception": false,
     "start_time": "2023-02-24T13:17:38.685211",
     "status": "completed"
    },
    "tags": []
   },
   "outputs": [
    {
     "name": "stdout",
     "output_type": "stream",
     "text": [
      "chunk 0 of 1 chunks\n"
     ]
    },
    {
     "name": "stderr",
     "output_type": "stream",
     "text": [
      "100%|██████████| 1500/1500 [04:32<00:00,  5.51it/s]\n"
     ]
    },
    {
     "name": "stdout",
     "output_type": "stream",
     "text": [
      "DALI Raw image load complete\n"
     ]
    }
   ],
   "source": [
    "\n",
    "\n",
    "for ttt, chunk in enumerate(CHUNKS):\n",
    "    print(f'chunk {ttt} of {len(CHUNKS)} chunks')\n",
    "    os.makedirs(JPG_FOLDER, exist_ok=True)\n",
    "\n",
    "    _ = Parallel(n_jobs=2)(\n",
    "        delayed(convert_dicom_to_jpg)(f'{DATA_FOLDER}/{img}', save_folder=JPG_FOLDER)\n",
    "        for img in test_df[\"fns\"].tolist()[chunk[0]: chunk[1]]\n",
    "    )\n",
    "    \n",
    "    jpgfiles = glob.glob(JPG_FOLDER + \"*.jpg\")\n",
    "\n",
    "\n",
    "    pipe = jpg_decode_pipeline(jpgfiles, batch_size=1, num_threads=2, device_id=0)\n",
    "    pipe.build()\n",
    "\n",
    "    for i, f in enumerate(tqdm(jpgfiles)):\n",
    "        \n",
    "        patient, dicom_id = f.split('/')[-1][:-4].split('_')\n",
    "        dicom = pydicom.dcmread(DATA_FOLDER + f\"/{patient}/{dicom_id}.dcm\")\n",
    "        try:\n",
    "            out = pipe.run()\n",
    "            # Dali -> Torch\n",
    "            img = out[0][0]\n",
    "            img_torch = torch.empty(img.shape(), dtype=torch.int16, device=\"cuda\")\n",
    "            feed_ndarray(img, img_torch, cuda_stream=torch.cuda.current_stream(device=0))\n",
    "            img = img_torch.float()\n",
    "\n",
    "            \n",
    "            del out, img_torch\n",
    "\n",
    "            #apply dicom preprocessing\n",
    "            img = process_dicom(img, dicom)\n",
    "\n",
    "            #resize the torch image\n",
    "            img = F.interpolate(img.view(1, 1, img.size(0), img.size(1)), (SAVE_SIZE*2, SAVE_SIZE*2), mode=\"bilinear\")[0, 0]\n",
    "\n",
    "            img = (img * 255).clip(0,255).to(torch.uint8).cpu().numpy()\n",
    "            out_file_name = SAVE_FOLDER + f\"{patient}_{dicom_id}.png\"\n",
    "            cv2.imwrite(out_file_name, img)\n",
    "\n",
    "            del out_file_name, img, dicom\n",
    "\n",
    "        except Exception as e:\n",
    "            print(i, e)\n",
    "            pipe = jpg_decode_pipeline(jpgfiles[i+1:], batch_size=1, num_threads=2, device_id=0)\n",
    "            pipe.build()\n",
    "            continue\n",
    "\n",
    "    shutil.rmtree(JPG_FOLDER)\n",
    "print(f'DALI Raw image load complete')"
   ]
  },
  {
   "cell_type": "code",
   "execution_count": 14,
   "id": "a716d885",
   "metadata": {
    "execution": {
     "iopub.execute_input": "2023-02-24T13:24:18.378695Z",
     "iopub.status.busy": "2023-02-24T13:24:18.377777Z",
     "iopub.status.idle": "2023-02-24T13:24:18.402417Z",
     "shell.execute_reply": "2023-02-24T13:24:18.398751Z"
    },
    "papermill": {
     "duration": 0.108668,
     "end_time": "2023-02-24T13:24:18.405447",
     "exception": false,
     "start_time": "2023-02-24T13:24:18.296779",
     "status": "completed"
    },
    "tags": []
   },
   "outputs": [
    {
     "name": "stdout",
     "output_type": "stream",
     "text": [
      "Image on disk count : 1500\n"
     ]
    }
   ],
   "source": [
    "fns = glob.glob(f'{SAVE_FOLDER}/*.png')\n",
    "n_saved = len(fns)\n",
    "print(f'Image on disk count : {n_saved}')"
   ]
  },
  {
   "cell_type": "markdown",
   "id": "1c348c07",
   "metadata": {
    "papermill": {
     "duration": 0.072615,
     "end_time": "2023-02-24T13:24:18.556433",
     "exception": false,
     "start_time": "2023-02-24T13:24:18.483818",
     "status": "completed"
    },
    "tags": []
   },
   "source": [
    "A few hidden test set images might not be decoded via DALI, so we fallback to CPU for those"
   ]
  },
  {
   "cell_type": "code",
   "execution_count": 15,
   "id": "639326b4",
   "metadata": {
    "execution": {
     "iopub.execute_input": "2023-02-24T13:24:18.701467Z",
     "iopub.status.busy": "2023-02-24T13:24:18.701152Z",
     "iopub.status.idle": "2023-02-24T13:24:18.737130Z",
     "shell.execute_reply": "2023-02-24T13:24:18.736123Z"
    },
    "papermill": {
     "duration": 0.110677,
     "end_time": "2023-02-24T13:24:18.739173",
     "exception": false,
     "start_time": "2023-02-24T13:24:18.628496",
     "status": "completed"
    },
    "tags": []
   },
   "outputs": [
    {
     "data": {
      "text/plain": [
       "(1500, 0)"
      ]
     },
     "execution_count": 15,
     "metadata": {},
     "output_type": "execute_result"
    }
   ],
   "source": [
    "gpu_processed_files = [fn.split('/')[-1].replace('_','/').replace('png','dcm') for fn in fns]\n",
    "to_process = [f for f in test_df[\"fns\"].values if f not in gpu_processed_files]\n",
    "len(gpu_processed_files), len(to_process)"
   ]
  },
  {
   "cell_type": "code",
   "execution_count": 16,
   "id": "576eeebe",
   "metadata": {
    "execution": {
     "iopub.execute_input": "2023-02-24T13:24:18.885134Z",
     "iopub.status.busy": "2023-02-24T13:24:18.884816Z",
     "iopub.status.idle": "2023-02-24T13:24:18.891769Z",
     "shell.execute_reply": "2023-02-24T13:24:18.890764Z"
    },
    "papermill": {
     "duration": 0.082582,
     "end_time": "2023-02-24T13:24:18.893699",
     "exception": false,
     "start_time": "2023-02-24T13:24:18.811117",
     "status": "completed"
    },
    "tags": []
   },
   "outputs": [],
   "source": [
    "\n",
    "def process(f, save_folder=\"\"):\n",
    "    patient = f.split('/')[-2]\n",
    "    dicom_id = f.split('/')[-1][:-4]\n",
    "    \n",
    "    dicom = dicomsdl.open(f)\n",
    "    img = dicom.pixelData()\n",
    "    \n",
    "    img = torch.from_numpy(img)\n",
    "    img = process_dicom(img, dicom)\n",
    "    \n",
    "    img = F.interpolate(img.view(1, 1, img.size(0), img.size(1)), (SAVE_SIZE*2, SAVE_SIZE*2), mode=\"bilinear\")[0, 0]\n",
    "\n",
    "    img = (img * 255).clip(0,255).to(torch.uint8).cpu().numpy()\n",
    "    out_file_name = SAVE_FOLDER + f\"{patient}_{dicom_id}.png\"\n",
    "    cv2.imwrite(out_file_name, img)\n",
    "    return out_file_name"
   ]
  },
  {
   "cell_type": "code",
   "execution_count": 17,
   "id": "b25182da",
   "metadata": {
    "execution": {
     "iopub.execute_input": "2023-02-24T13:24:19.065184Z",
     "iopub.status.busy": "2023-02-24T13:24:19.064860Z",
     "iopub.status.idle": "2023-02-24T13:24:19.079541Z",
     "shell.execute_reply": "2023-02-24T13:24:19.078342Z"
    },
    "papermill": {
     "duration": 0.107693,
     "end_time": "2023-02-24T13:24:19.083811",
     "exception": false,
     "start_time": "2023-02-24T13:24:18.976118",
     "status": "completed"
    },
    "tags": []
   },
   "outputs": [
    {
     "name": "stderr",
     "output_type": "stream",
     "text": [
      "0it [00:00, ?it/s]"
     ]
    },
    {
     "name": "stdout",
     "output_type": "stream",
     "text": [
      "CPU Raw image load complete with 0 loaded\n"
     ]
    },
    {
     "name": "stderr",
     "output_type": "stream",
     "text": [
      "\n"
     ]
    }
   ],
   "source": [
    "cpu_processed_filenames = Parallel(n_jobs=2)(\n",
    "    delayed(process)(f'{DATA_FOLDER}/{img}', save_folder=SAVE_FOLDER)\n",
    "    for img in tqdm(to_process)\n",
    ")\n",
    "cpu_processed_filenames = [f for f in cpu_processed_filenames if f]\n",
    "print(f'CPU Raw image load complete with {len(cpu_processed_filenames)} loaded')"
   ]
  },
  {
   "cell_type": "code",
   "execution_count": 18,
   "id": "64e3eeeb",
   "metadata": {
    "execution": {
     "iopub.execute_input": "2023-02-24T13:24:19.243960Z",
     "iopub.status.busy": "2023-02-24T13:24:19.243635Z",
     "iopub.status.idle": "2023-02-24T13:24:19.656767Z",
     "shell.execute_reply": "2023-02-24T13:24:19.655828Z"
    },
    "papermill": {
     "duration": 0.502686,
     "end_time": "2023-02-24T13:24:19.659350",
     "exception": false,
     "start_time": "2023-02-24T13:24:19.156664",
     "status": "completed"
    },
    "tags": []
   },
   "outputs": [],
   "source": [
    "gc.collect()\n",
    "torch.cuda.empty_cache()"
   ]
  },
  {
   "cell_type": "code",
   "execution_count": 19,
   "id": "d2b3520c",
   "metadata": {
    "execution": {
     "iopub.execute_input": "2023-02-24T13:24:19.878916Z",
     "iopub.status.busy": "2023-02-24T13:24:19.878459Z",
     "iopub.status.idle": "2023-02-24T13:24:19.894198Z",
     "shell.execute_reply": "2023-02-24T13:24:19.893292Z"
    },
    "papermill": {
     "duration": 0.126016,
     "end_time": "2023-02-24T13:24:19.896643",
     "exception": false,
     "start_time": "2023-02-24T13:24:19.770627",
     "status": "completed"
    },
    "tags": []
   },
   "outputs": [
    {
     "name": "stdout",
     "output_type": "stream",
     "text": [
      "Image on disk count : 1500\n"
     ]
    }
   ],
   "source": [
    "n_saved = len(glob.glob(f'{SAVE_FOLDER}/*.png'))\n",
    "print(f'Image on disk count : {n_saved}')"
   ]
  },
  {
   "cell_type": "code",
   "execution_count": 20,
   "id": "ce2d895f",
   "metadata": {
    "execution": {
     "iopub.execute_input": "2023-02-24T13:24:20.094528Z",
     "iopub.status.busy": "2023-02-24T13:24:20.094237Z",
     "iopub.status.idle": "2023-02-24T13:24:20.098774Z",
     "shell.execute_reply": "2023-02-24T13:24:20.097743Z"
    },
    "papermill": {
     "duration": 0.088278,
     "end_time": "2023-02-24T13:24:20.101033",
     "exception": false,
     "start_time": "2023-02-24T13:24:20.012755",
     "status": "completed"
    },
    "tags": []
   },
   "outputs": [],
   "source": [
    "assert n_saved == len(test_df)"
   ]
  },
  {
   "cell_type": "markdown",
   "id": "3e0c01c2",
   "metadata": {
    "papermill": {
     "duration": 0.075406,
     "end_time": "2023-02-24T13:24:20.248983",
     "exception": false,
     "start_time": "2023-02-24T13:24:20.173577",
     "status": "completed"
    },
    "tags": []
   },
   "source": [
    "We finished with preprocessing all the dicoms to images. So next, we set-up the dataloading and model"
   ]
  },
  {
   "cell_type": "code",
   "execution_count": 21,
   "id": "5739804b",
   "metadata": {
    "execution": {
     "iopub.execute_input": "2023-02-24T13:24:20.460805Z",
     "iopub.status.busy": "2023-02-24T13:24:20.460447Z",
     "iopub.status.idle": "2023-02-24T13:24:20.473993Z",
     "shell.execute_reply": "2023-02-24T13:24:20.473014Z"
    },
    "papermill": {
     "duration": 0.089836,
     "end_time": "2023-02-24T13:24:20.476080",
     "exception": false,
     "start_time": "2023-02-24T13:24:20.386244",
     "status": "completed"
    },
    "tags": []
   },
   "outputs": [],
   "source": [
    "\n",
    "def batch_to_device(batch, device):\n",
    "    batch_dict = {key: batch[key].to(device) for key in batch}\n",
    "    return batch_dict\n",
    "\n",
    "\n",
    "class CustomDataset(Dataset):\n",
    "    def __init__(self, df, cfg, aug):\n",
    "\n",
    "        self.cfg = cfg\n",
    "        self.df = df.copy()\n",
    "        self.df = self.df[self.df['image_id'].astype(str) != '1942326353']\n",
    "        self.labels = self.df[self.cfg.classes].values\n",
    "        self.df[\"fns\"] = self.df['patient_id'].astype(str) + '_' + self.df['image_id'].astype(str) + '.png'\n",
    "        self.fns = self.df[\"fns\"].astype(str).values\n",
    "        self.aug = aug\n",
    "        self.data_folder = cfg.data_folder\n",
    "\n",
    "    def __getitem__(self, idx):\n",
    "\n",
    "        label = self.labels[idx]\n",
    "        img = self.load_one(idx)\n",
    "\n",
    "        if self.aug:\n",
    "            img = self.augment(img)\n",
    "\n",
    "        img = self.normalize_img(img)\n",
    "        torch_img = torch.tensor(img).float().permute(2,0,1)\n",
    "        \n",
    "        feature_dict = {\n",
    "            \"input\": torch_img,\n",
    "            \"target\": torch.tensor(label),\n",
    "        }\n",
    "        return feature_dict\n",
    "\n",
    "    def __len__(self):\n",
    "        return len(self.fns)\n",
    "\n",
    "    def load_one(self, idx):\n",
    "        path = self.data_folder + self.fns[idx]\n",
    "        try:\n",
    "            img = cv2.imread(path, cv2.IMREAD_UNCHANGED)\n",
    "            shape = img.shape\n",
    "\n",
    "            if CROP_IMAGE_1st:\n",
    "                if len(img.shape) == 2:\n",
    "                    image_c = crop(img)\n",
    "                    if min(*image_c.shape) > 100:\n",
    "                        img = image_c\n",
    "        \n",
    "            img = cv2.resize(img, (SAVE_SIZE, SAVE_SIZE))\n",
    "            \n",
    "            if len(img.shape) == 2:\n",
    "                img = img[:,:,None]\n",
    "                    \n",
    "        except Exception as e:\n",
    "            print(e)\n",
    "        return img\n",
    "\n",
    "    def augment(self, img):\n",
    "        img = img.astype(np.float32)\n",
    "        transformed = self.aug(image=img)\n",
    "        trans_img = transformed[\"image\"]\n",
    "        return trans_img\n",
    "\n",
    "    def normalize_img(self, img):\n",
    "        img = img / 255\n",
    "        return img\n"
   ]
  },
  {
   "cell_type": "code",
   "execution_count": 22,
   "id": "c3b0619b",
   "metadata": {
    "execution": {
     "iopub.execute_input": "2023-02-24T13:24:20.621989Z",
     "iopub.status.busy": "2023-02-24T13:24:20.621688Z",
     "iopub.status.idle": "2023-02-24T13:24:20.633808Z",
     "shell.execute_reply": "2023-02-24T13:24:20.632937Z"
    },
    "papermill": {
     "duration": 0.0877,
     "end_time": "2023-02-24T13:24:20.635733",
     "exception": false,
     "start_time": "2023-02-24T13:24:20.548033",
     "status": "completed"
    },
    "tags": []
   },
   "outputs": [],
   "source": [
    "def gem(x, p=3, eps=1e-6):\n",
    "    return F.avg_pool2d(x.clamp(min=eps).pow(p), (x.size(-2), x.size(-1))).pow(1.0 / p)\n",
    "\n",
    "\n",
    "class GeM(nn.Module):\n",
    "    def __init__(self, p=3, eps=1e-6, p_trainable=False):\n",
    "        super(GeM, self).__init__()\n",
    "        if p_trainable:\n",
    "            self.p = Parameter(torch.ones(1) * p)\n",
    "        else:\n",
    "            self.p = p\n",
    "        self.eps = eps\n",
    "\n",
    "    def forward(self, x):\n",
    "        ret = gem(x, p=self.p, eps=self.eps)\n",
    "        return ret\n",
    "\n",
    "    def __repr__(self):\n",
    "        return (self.__class__.__name__  + f\"(p={self.p.data.tolist()[0]:.4f},eps={self.eps})\")\n",
    "\n",
    "\n",
    "\n",
    "class Net(nn.Module):\n",
    "\n",
    "    def __init__(self, cfg: Any):\n",
    "        super(Net, self).__init__()\n",
    "\n",
    "        self.cfg = cfg\n",
    "        self.n_classes = len(cfg.classes)\n",
    "        self.backbone = timm.create_model(cfg.backbone, \n",
    "                                          pretrained=cfg.pretrained, \n",
    "                                          num_classes=0, \n",
    "                                          global_pool=\"\", \n",
    "                                          in_chans=self.cfg.in_channels)\n",
    "    \n",
    "        backbone_out = self.backbone.feature_info[-1]['num_chs']\n",
    "\n",
    "        self.global_pool = GeM(p_trainable=False)\n",
    "        self.head = torch.nn.Linear(backbone_out, self.n_classes)\n",
    "        self.loss_fn = nn.BCEWithLogitsLoss()\n",
    "\n",
    "    def forward(self, batch):\n",
    "\n",
    "        x = batch['input']\n",
    "\n",
    "        x = self.backbone(x)\n",
    "        x = self.global_pool(x)\n",
    "        x = x[:,:,0,0]\n",
    "\n",
    "        logits = self.head(x)\n",
    "        \n",
    "        \n",
    "        outputs = {}\n",
    "        \n",
    "        \n",
    "        if self.training:\n",
    "            loss = self.loss_fn(logits,batch[\"target\"].float())\n",
    "            outputs['loss'] = loss\n",
    "        else:\n",
    "            outputs[\"logits\"] = logits\n",
    "        \n",
    " \n",
    "\n",
    "        return outputs\n"
   ]
  },
  {
   "cell_type": "code",
   "execution_count": 23,
   "id": "4572f80c",
   "metadata": {
    "execution": {
     "iopub.execute_input": "2023-02-24T13:24:20.783189Z",
     "iopub.status.busy": "2023-02-24T13:24:20.782796Z",
     "iopub.status.idle": "2023-02-24T13:24:20.791580Z",
     "shell.execute_reply": "2023-02-24T13:24:20.790633Z"
    },
    "papermill": {
     "duration": 0.085291,
     "end_time": "2023-02-24T13:24:20.793685",
     "exception": false,
     "start_time": "2023-02-24T13:24:20.708394",
     "status": "completed"
    },
    "tags": []
   },
   "outputs": [],
   "source": [
    "def get_dl(test_df, cfg):\n",
    "\n",
    "    test_ds = CustomDataset(test_df, cfg, cfg.val_aug)\n",
    "    test_dl = DataLoader(test_ds, shuffle=False, batch_size=cfg.batch_size, num_workers=N_CORES, pin_memory=True)\n",
    "\n",
    "    return test_dl, batch_to_device\n",
    "\n",
    "def get_state_dict(sd_fp):\n",
    "    sd = torch.load(sd_fp, map_location=\"cpu\")['model']\n",
    "    sd = {k.replace(\"module.\", \"\"):v for k,v in sd.items()}\n",
    "    return sd\n",
    "\n",
    "def get_nets(cfg,state_dicts):\n",
    "\n",
    "    nets = []\n",
    "\n",
    "    for i,state_dict in enumerate(state_dicts):\n",
    "        net = Net(cfg).eval().to(DEVICE)\n",
    "        print(\"loading dict\")\n",
    "        sd = get_state_dict(state_dict)\n",
    "        net.load_state_dict(sd, strict=True)\n",
    "        nets += [net]\n",
    "        del sd\n",
    "        gc.collect()\n",
    "    return nets"
   ]
  },
  {
   "cell_type": "code",
   "execution_count": 24,
   "id": "68a344f4",
   "metadata": {
    "execution": {
     "iopub.execute_input": "2023-02-24T13:24:20.940430Z",
     "iopub.status.busy": "2023-02-24T13:24:20.939777Z",
     "iopub.status.idle": "2023-02-24T13:24:20.993223Z",
     "shell.execute_reply": "2023-02-24T13:24:20.992286Z"
    },
    "papermill": {
     "duration": 0.129346,
     "end_time": "2023-02-24T13:24:20.995253",
     "exception": false,
     "start_time": "2023-02-24T13:24:20.865907",
     "status": "completed"
    },
    "tags": []
   },
   "outputs": [],
   "source": [
    "sub_dl, batch_to_device = get_dl(test_df, cfg)"
   ]
  },
  {
   "cell_type": "code",
   "execution_count": 25,
   "id": "817df190",
   "metadata": {
    "execution": {
     "iopub.execute_input": "2023-02-24T13:24:21.142406Z",
     "iopub.status.busy": "2023-02-24T13:24:21.141643Z",
     "iopub.status.idle": "2023-02-24T13:24:30.232640Z",
     "shell.execute_reply": "2023-02-24T13:24:30.231655Z"
    },
    "papermill": {
     "duration": 9.167378,
     "end_time": "2023-02-24T13:24:30.235062",
     "exception": false,
     "start_time": "2023-02-24T13:24:21.067684",
     "status": "completed"
    },
    "tags": []
   },
   "outputs": [
    {
     "name": "stdout",
     "output_type": "stream",
     "text": [
      "['/kaggle/input/rsna-seresnext50-5fold/checkpoint_last_seed298515.pth', '/kaggle/input/rsna-seresnext50-5fold/checkpoint_last_seed334760.pth', '/kaggle/input/rsna-seresnext50-5fold/checkpoint_last_seed607282.pth', '/kaggle/input/rsna-seresnext50-5fold/checkpoint_last_seed758935.pth', '/kaggle/input/rsna-seresnext50-5fold/checkpoint_last_seed779477.pth']\n",
      "loading dict\n",
      "loading dict\n",
      "loading dict\n",
      "loading dict\n",
      "loading dict\n"
     ]
    }
   ],
   "source": [
    "state_dicts = sorted(glob.glob('/kaggle/input/rsna-seresnext50-5fold/check*.pth'))\n",
    "print(state_dicts)\n",
    "\n",
    "nets = get_nets(cfg,state_dicts)"
   ]
  },
  {
   "cell_type": "code",
   "execution_count": 26,
   "id": "c8106cc7",
   "metadata": {
    "execution": {
     "iopub.execute_input": "2023-02-24T13:24:30.386566Z",
     "iopub.status.busy": "2023-02-24T13:24:30.386261Z",
     "iopub.status.idle": "2023-02-24T13:24:30.391423Z",
     "shell.execute_reply": "2023-02-24T13:24:30.390373Z"
    },
    "papermill": {
     "duration": 0.082885,
     "end_time": "2023-02-24T13:24:30.395427",
     "exception": false,
     "start_time": "2023-02-24T13:24:30.312542",
     "status": "completed"
    },
    "tags": []
   },
   "outputs": [
    {
     "name": "stdout",
     "output_type": "stream",
     "text": [
      "Dataloader length : 1500\n"
     ]
    }
   ],
   "source": [
    "print(f'Dataloader length : {len(sub_dl.dataset)}')"
   ]
  },
  {
   "cell_type": "code",
   "execution_count": 27,
   "id": "aa3aa3a5",
   "metadata": {
    "execution": {
     "iopub.execute_input": "2023-02-24T13:24:30.562440Z",
     "iopub.status.busy": "2023-02-24T13:24:30.562150Z",
     "iopub.status.idle": "2023-02-24T13:32:25.700671Z",
     "shell.execute_reply": "2023-02-24T13:32:25.698908Z"
    },
    "papermill": {
     "duration": 475.236017,
     "end_time": "2023-02-24T13:32:25.704862",
     "exception": false,
     "start_time": "2023-02-24T13:24:30.468845",
     "status": "completed"
    },
    "tags": []
   },
   "outputs": [
    {
     "name": "stderr",
     "output_type": "stream",
     "text": [
      "100%|██████████| 188/188 [07:55<00:00,  2.53s/it]\n"
     ]
    },
    {
     "data": {
      "text/plain": [
       "(1500,)"
      ]
     },
     "execution_count": 27,
     "metadata": {},
     "output_type": "execute_result"
    }
   ],
   "source": [
    "with torch.inference_mode():\n",
    "\n",
    "    preds = [[] for i in range(len(nets))]\n",
    "    for batch in tqdm(sub_dl):\n",
    "        batch = batch_to_device(batch, cfg.device)\n",
    "        for i, net in enumerate(nets):\n",
    "            logits = net(batch)['logits'].sigmoid().float().detach().cpu().numpy()\n",
    "            preds[i] += [logits]\n",
    "            \n",
    "preds = np.array([np.concatenate(p, axis=0) for p in preds])\n",
    "preds = preds.mean(0) #average fold predictions\n",
    "preds = preds[:,0]\n",
    "preds.shape"
   ]
  },
  {
   "cell_type": "code",
   "execution_count": 28,
   "id": "5c8d9f73",
   "metadata": {
    "execution": {
     "iopub.execute_input": "2023-02-24T13:32:25.921762Z",
     "iopub.status.busy": "2023-02-24T13:32:25.921387Z",
     "iopub.status.idle": "2023-02-24T13:32:25.927911Z",
     "shell.execute_reply": "2023-02-24T13:32:25.926848Z"
    },
    "papermill": {
     "duration": 0.093395,
     "end_time": "2023-02-24T13:32:25.931055",
     "exception": false,
     "start_time": "2023-02-24T13:32:25.837660",
     "status": "completed"
    },
    "tags": []
   },
   "outputs": [
    {
     "data": {
      "text/plain": [
       "(1500,)"
      ]
     },
     "execution_count": 28,
     "metadata": {},
     "output_type": "execute_result"
    }
   ],
   "source": [
    "preds.shape"
   ]
  },
  {
   "cell_type": "code",
   "execution_count": 29,
   "id": "cfb8e07e",
   "metadata": {
    "execution": {
     "iopub.execute_input": "2023-02-24T13:32:26.095810Z",
     "iopub.status.busy": "2023-02-24T13:32:26.095529Z",
     "iopub.status.idle": "2023-02-24T13:32:26.173906Z",
     "shell.execute_reply": "2023-02-24T13:32:26.172898Z"
    },
    "papermill": {
     "duration": 0.163258,
     "end_time": "2023-02-24T13:32:26.176066",
     "exception": false,
     "start_time": "2023-02-24T13:32:26.012808",
     "status": "completed"
    },
    "tags": []
   },
   "outputs": [],
   "source": [
    "del batch, logits, i, net, nets, batch_to_device, state_dicts, cpu_processed_filenames, ttt, chunk, jpgfiles, pipe, gpu_processed_files, to_process"
   ]
  },
  {
   "cell_type": "code",
   "execution_count": 30,
   "id": "77bef9a8",
   "metadata": {
    "execution": {
     "iopub.execute_input": "2023-02-24T13:32:26.382023Z",
     "iopub.status.busy": "2023-02-24T13:32:26.381150Z",
     "iopub.status.idle": "2023-02-24T13:32:26.658175Z",
     "shell.execute_reply": "2023-02-24T13:32:26.657198Z"
    },
    "papermill": {
     "duration": 0.402497,
     "end_time": "2023-02-24T13:32:26.660473",
     "exception": false,
     "start_time": "2023-02-24T13:32:26.257976",
     "status": "completed"
    },
    "tags": []
   },
   "outputs": [],
   "source": [
    "gc.collect()\n",
    "torch.cuda.empty_cache()"
   ]
  },
  {
   "cell_type": "code",
   "execution_count": 31,
   "id": "b7e4444c",
   "metadata": {
    "execution": {
     "iopub.execute_input": "2023-02-24T13:32:26.828228Z",
     "iopub.status.busy": "2023-02-24T13:32:26.826790Z",
     "iopub.status.idle": "2023-02-24T13:32:32.424858Z",
     "shell.execute_reply": "2023-02-24T13:32:32.423846Z"
    },
    "papermill": {
     "duration": 5.683992,
     "end_time": "2023-02-24T13:32:32.427467",
     "exception": false,
     "start_time": "2023-02-24T13:32:26.743475",
     "status": "completed"
    },
    "tags": []
   },
   "outputs": [],
   "source": [
    "import tensorflow as tf\n",
    "from keras_cv_attention_models import convnext"
   ]
  },
  {
   "cell_type": "code",
   "execution_count": 32,
   "id": "1c42dbc5",
   "metadata": {
    "execution": {
     "iopub.execute_input": "2023-02-24T13:32:32.668228Z",
     "iopub.status.busy": "2023-02-24T13:32:32.667754Z",
     "iopub.status.idle": "2023-02-24T13:32:32.674197Z",
     "shell.execute_reply": "2023-02-24T13:32:32.673011Z"
    },
    "papermill": {
     "duration": 0.139798,
     "end_time": "2023-02-24T13:32:32.677352",
     "exception": false,
     "start_time": "2023-02-24T13:32:32.537554",
     "status": "completed"
    },
    "tags": []
   },
   "outputs": [],
   "source": [
    "TARGET_HEIGHT = 1344\n",
    "TARGET_WIDTH = 768\n",
    "N_CHANNELS = 1\n",
    "INPUT_SHAPE = (TARGET_HEIGHT, TARGET_WIDTH, N_CHANNELS)\n",
    "TARGET_HEIGHT_WIDTH_RATIO = TARGET_HEIGHT / TARGET_WIDTH"
   ]
  },
  {
   "cell_type": "code",
   "execution_count": 33,
   "id": "2bc2cf7f",
   "metadata": {
    "execution": {
     "iopub.execute_input": "2023-02-24T13:32:32.930405Z",
     "iopub.status.busy": "2023-02-24T13:32:32.930098Z",
     "iopub.status.idle": "2023-02-24T13:32:32.936855Z",
     "shell.execute_reply": "2023-02-24T13:32:32.935789Z"
    },
    "papermill": {
     "duration": 0.143483,
     "end_time": "2023-02-24T13:32:32.941714",
     "exception": false,
     "start_time": "2023-02-24T13:32:32.798231",
     "status": "completed"
    },
    "tags": []
   },
   "outputs": [],
   "source": [
    "def normalize(image):\n",
    "    # Repeat channels to create 3 channel images required by pretrained ConvNextV2 models\n",
    "    image = tf.repeat(image, repeats=3, axis=3)\n",
    "    # Cast to float 32\n",
    "    image = tf.cast(image, tf.float32)\n",
    "    # Normalize with respect to ImageNet mean/std\n",
    "    image = tf.keras.applications.imagenet_utils.preprocess_input(image, mode='torch')\n",
    "\n",
    "    return image"
   ]
  },
  {
   "cell_type": "code",
   "execution_count": 34,
   "id": "a9c2c56b",
   "metadata": {
    "execution": {
     "iopub.execute_input": "2023-02-24T13:32:33.108357Z",
     "iopub.status.busy": "2023-02-24T13:32:33.108048Z",
     "iopub.status.idle": "2023-02-24T13:32:33.115342Z",
     "shell.execute_reply": "2023-02-24T13:32:33.114349Z"
    },
    "papermill": {
     "duration": 0.092082,
     "end_time": "2023-02-24T13:32:33.117330",
     "exception": false,
     "start_time": "2023-02-24T13:32:33.025248",
     "status": "completed"
    },
    "tags": []
   },
   "outputs": [],
   "source": [
    "def get_model():\n",
    "    # Inputs, note the names are equal to the dictionary keys in the dataset\n",
    "    image = tf.keras.layers.Input(INPUT_SHAPE, name='image', dtype=tf.uint8)\n",
    "\n",
    "    # Normalize Input\n",
    "    image_norm = normalize(image)\n",
    "\n",
    "    # CNN Feature Maps\n",
    "    x = convnext.ConvNeXtV2Tiny(\n",
    "        input_shape=(TARGET_HEIGHT, TARGET_WIDTH, 3),\n",
    "        pretrained=None,\n",
    "        num_classes=0,\n",
    "    )(image_norm)\n",
    "\n",
    "    # Average Pooling BxHxWxC -> BxC\n",
    "    x = tf.keras.layers.GlobalAveragePooling2D()(x)\n",
    "    # Dropout to prevent Overfitting\n",
    "    x = tf.keras.layers.Dropout(0.30)(x)\n",
    "    # Output value between [0, 1] using Sigmoid function\n",
    "    outputs = tf.keras.layers.Dense(1, activation='sigmoid')(x)\n",
    "\n",
    "    # Define model with inputs and outputs\n",
    "    model = tf.keras.models.Model(inputs=image, outputs=outputs)\n",
    "\n",
    "    # Load pretrained Model Weights\n",
    "    model.load_weights('/kaggle/input/rsna-efficientnetv2-training-tensorflow-tpu-ds/model.h5')\n",
    "\n",
    "    # Set model non-trainable\n",
    "    model.trainable = False\n",
    "\n",
    "    # Compile model\n",
    "    model.compile()\n",
    "\n",
    "    return model"
   ]
  },
  {
   "cell_type": "code",
   "execution_count": 35,
   "id": "b4b62d4f",
   "metadata": {
    "execution": {
     "iopub.execute_input": "2023-02-24T13:32:33.283861Z",
     "iopub.status.busy": "2023-02-24T13:32:33.282894Z",
     "iopub.status.idle": "2023-02-24T13:32:40.388545Z",
     "shell.execute_reply": "2023-02-24T13:32:40.387440Z"
    },
    "papermill": {
     "duration": 7.191428,
     "end_time": "2023-02-24T13:32:40.391183",
     "exception": false,
     "start_time": "2023-02-24T13:32:33.199755",
     "status": "completed"
    },
    "tags": []
   },
   "outputs": [],
   "source": [
    "# Pretrained File Path: '/kaggle/input/sartorius-training-dataset/model.h5'\n",
    "tf.keras.backend.clear_session()\n",
    "# enable XLA optmizations\n",
    "tf.config.optimizer.set_jit(True)\n",
    "\n",
    "model = get_model()"
   ]
  },
  {
   "cell_type": "code",
   "execution_count": 36,
   "id": "2d26f9b3",
   "metadata": {
    "execution": {
     "iopub.execute_input": "2023-02-24T13:32:40.560923Z",
     "iopub.status.busy": "2023-02-24T13:32:40.559881Z",
     "iopub.status.idle": "2023-02-24T13:36:18.518344Z",
     "shell.execute_reply": "2023-02-24T13:36:18.503881Z"
    },
    "papermill": {
     "duration": 218.044732,
     "end_time": "2023-02-24T13:36:18.520909",
     "exception": false,
     "start_time": "2023-02-24T13:32:40.476177",
     "status": "completed"
    },
    "tags": []
   },
   "outputs": [
    {
     "name": "stderr",
     "output_type": "stream",
     "text": [
      " 10%|▉         | 65/656 [00:28<03:15,  3.02it/s]/opt/conda/lib/python3.7/site-packages/numpy/core/_methods.py:263: RuntimeWarning: Degrees of freedom <= 0 for slice\n",
      "  keepdims=keepdims, where=where)\n",
      "/opt/conda/lib/python3.7/site-packages/numpy/core/_methods.py:223: RuntimeWarning: invalid value encountered in true_divide\n",
      "  subok=False)\n",
      "/opt/conda/lib/python3.7/site-packages/numpy/core/_methods.py:252: RuntimeWarning: invalid value encountered in true_divide\n",
      "  ret, rcount, out=ret, casting='unsafe', subok=False)\n",
      "100%|██████████| 656/656 [03:37<00:00,  3.01it/s]\n"
     ]
    }
   ],
   "source": [
    "test = sub_dl.dataset.df\n",
    "SUBMISSION_ROWS = []\n",
    "# Iterate over all patient_id/laterality combinations groups\n",
    "for idx, ((patient_id, laterality), g) in enumerate(tqdm(test.groupby(['patient_id', 'laterality']))):\n",
    "    # Cancer target is mean of predicted cancer values\n",
    "    cancer = 0\n",
    "    # Iterate over all scans in group\n",
    "    for row_idx, row in g.iterrows():\n",
    "        # Load Image\n",
    "        image_id = row['image_id']\n",
    "        image = cv2.imread(f'/tmp/output/{patient_id}_{image_id}.png', -1)\n",
    "        \n",
    "        if CROP_IMAGE_2nd:\n",
    "            if len(image.shape) == 2:\n",
    "                image_c = crop(image)\n",
    "                if min(*image_c.shape) > 100:\n",
    "                    image = image_c\n",
    "        \n",
    "        image = cv2.resize(image, (TARGET_WIDTH, TARGET_HEIGHT))\n",
    "        \n",
    "        # Expand to Batch HxW -> 1xHxWx1\n",
    "        image = np.expand_dims(image, [0, 3])\n",
    "        # Make Prediction\n",
    "        cancer += model.predict_on_batch(image).squeeze() / len(g)\n",
    "                \n",
    "    # Add Submission Row\n",
    "    SUBMISSION_ROWS.append({\n",
    "        'prediction_id': f'{patient_id}_{laterality}',\n",
    "        'cancer': np.float32(cancer),\n",
    "    })\n",
    "    \n",
    "    if np.random.rand() > 0.99:\n",
    "        gc.collect()"
   ]
  },
  {
   "cell_type": "code",
   "execution_count": 37,
   "id": "d607e122",
   "metadata": {
    "execution": {
     "iopub.execute_input": "2023-02-24T13:36:18.753838Z",
     "iopub.status.busy": "2023-02-24T13:36:18.752912Z",
     "iopub.status.idle": "2023-02-24T13:36:18.759621Z",
     "shell.execute_reply": "2023-02-24T13:36:18.758772Z"
    },
    "papermill": {
     "duration": 0.123775,
     "end_time": "2023-02-24T13:36:18.761523",
     "exception": false,
     "start_time": "2023-02-24T13:36:18.637748",
     "status": "completed"
    },
    "tags": []
   },
   "outputs": [],
   "source": [
    "sub1_std = np.std(preds)\n",
    "sub1_mean = np.std(preds)\n",
    "sub2_std = np.std([r['cancer'] for r in SUBMISSION_ROWS])\n",
    "sub2_mean = np.std([r['cancer'] for r in SUBMISSION_ROWS])"
   ]
  },
  {
   "cell_type": "code",
   "execution_count": 38,
   "id": "e49fa157",
   "metadata": {
    "execution": {
     "iopub.execute_input": "2023-02-24T13:36:18.989052Z",
     "iopub.status.busy": "2023-02-24T13:36:18.988737Z",
     "iopub.status.idle": "2023-02-24T13:36:18.993920Z",
     "shell.execute_reply": "2023-02-24T13:36:18.992964Z"
    },
    "papermill": {
     "duration": 0.121401,
     "end_time": "2023-02-24T13:36:18.996013",
     "exception": false,
     "start_time": "2023-02-24T13:36:18.874612",
     "status": "completed"
    },
    "tags": []
   },
   "outputs": [],
   "source": [
    "submission_2 = {r['prediction_id']:sub1_std*((r['cancer']-sub2_mean)/sub2_std)+sub1_mean for r in SUBMISSION_ROWS}"
   ]
  },
  {
   "cell_type": "code",
   "execution_count": 39,
   "id": "c2573c28",
   "metadata": {
    "execution": {
     "iopub.execute_input": "2023-02-24T13:36:19.228085Z",
     "iopub.status.busy": "2023-02-24T13:36:19.227673Z",
     "iopub.status.idle": "2023-02-24T13:36:19.259536Z",
     "shell.execute_reply": "2023-02-24T13:36:19.258414Z"
    },
    "papermill": {
     "duration": 0.152589,
     "end_time": "2023-02-24T13:36:19.261870",
     "exception": false,
     "start_time": "2023-02-24T13:36:19.109281",
     "status": "completed"
    },
    "tags": []
   },
   "outputs": [],
   "source": [
    "patient_id = sub_dl.dataset.df['patient_id'].values\n",
    "laterality = sub_dl.dataset.df['laterality'].values\n",
    "\n",
    "ab_rate = 0.7459703039378771\n",
    "prediction_id = [f'{i}_{j}' for i,j in  zip(patient_id, laterality)]\n",
    "preds_marged = [sub_1*ab_rate + submission_2[p]*(1.0-ab_rate) for sub_1,p in zip(preds,prediction_id)]\n",
    "\n",
    "pred_df = pd.DataFrame({'prediction_id': prediction_id, 'cancer_raw': preds_marged})\n",
    "\n",
    "#aggregate by prediction_id , i.e. by patient_laterality\n",
    "sub = pred_df.groupby('prediction_id')[['cancer_raw']].agg('mean')\n",
    "\n",
    "# binarize predictions\n",
    "th = np.quantile(sub['cancer_raw'].values,0.97935)\n",
    "sub['cancer'] = (sub['cancer_raw'].values > th).astype(int)"
   ]
  },
  {
   "cell_type": "code",
   "execution_count": 40,
   "id": "8734f1fa",
   "metadata": {
    "execution": {
     "iopub.execute_input": "2023-02-24T13:36:19.491750Z",
     "iopub.status.busy": "2023-02-24T13:36:19.491404Z",
     "iopub.status.idle": "2023-02-24T13:36:19.504487Z",
     "shell.execute_reply": "2023-02-24T13:36:19.503616Z"
    },
    "papermill": {
     "duration": 0.12968,
     "end_time": "2023-02-24T13:36:19.506614",
     "exception": false,
     "start_time": "2023-02-24T13:36:19.376934",
     "status": "completed"
    },
    "tags": []
   },
   "outputs": [],
   "source": [
    "sub[['cancer']].to_csv('submission.csv')"
   ]
  },
  {
   "cell_type": "markdown",
   "id": "445a0360",
   "metadata": {
    "papermill": {
     "duration": 0.113029,
     "end_time": "2023-02-24T13:36:19.732632",
     "exception": false,
     "start_time": "2023-02-24T13:36:19.619603",
     "status": "completed"
    },
    "tags": []
   },
   "source": [
    "for debugging purpose we can calculate the pF1 score if we infered on the train data by setting RAM_CHECK=True in the beginning"
   ]
  },
  {
   "cell_type": "code",
   "execution_count": null,
   "id": "1ade3beb",
   "metadata": {
    "papermill": {
     "duration": 0.113564,
     "end_time": "2023-02-24T13:36:19.960761",
     "exception": false,
     "start_time": "2023-02-24T13:36:19.847197",
     "status": "completed"
    },
    "tags": []
   },
   "outputs": [],
   "source": []
  },
  {
   "cell_type": "code",
   "execution_count": 41,
   "id": "42532d00",
   "metadata": {
    "execution": {
     "iopub.execute_input": "2023-02-24T13:36:20.188467Z",
     "iopub.status.busy": "2023-02-24T13:36:20.188091Z",
     "iopub.status.idle": "2023-02-24T13:36:20.234113Z",
     "shell.execute_reply": "2023-02-24T13:36:20.232907Z"
    },
    "papermill": {
     "duration": 0.16324,
     "end_time": "2023-02-24T13:36:20.236872",
     "exception": false,
     "start_time": "2023-02-24T13:36:20.073632",
     "status": "completed"
    },
    "tags": []
   },
   "outputs": [
    {
     "name": "stdout",
     "output_type": "stream",
     "text": [
      "0.15779858778382835 0.8275862068965518\n"
     ]
    }
   ],
   "source": [
    "if RAM_CHECK:\n",
    "\n",
    "    def pfbeta(labels, predictions, beta):\n",
    "        #official implementation\n",
    "        y_true_count = 0\n",
    "        ctp = 0\n",
    "        cfp = 0\n",
    "\n",
    "        for idx in range(len(labels)):\n",
    "            prediction = min(max(predictions[idx], 0), 1)\n",
    "            if (labels[idx]):\n",
    "                y_true_count += 1\n",
    "                ctp += prediction\n",
    "    #             cfp += 1 - prediction #bugfix\n",
    "            else:\n",
    "                cfp += prediction\n",
    "\n",
    "        beta_squared = beta * beta\n",
    "        c_precision = ctp / (ctp + cfp)\n",
    "        c_recall = ctp / y_true_count\n",
    "        if (c_precision > 0 and c_recall > 0):\n",
    "            result = (1 + beta_squared) * (c_precision * c_recall) / (beta_squared * c_precision + c_recall)\n",
    "            return result\n",
    "        else:\n",
    "            return 0\n",
    "\n",
    "    #aggregate by prediction_id , i.e. by patient_laterality\n",
    "    test_df['prediction_id'] = test_df.apply(lambda x: f'{x.patient_id}_{x.laterality}', 1)\n",
    "    test_df_gr = test_df.groupby('prediction_id')[['cancer']].agg('mean')\n",
    "\n",
    "    # Sort both the same\n",
    "    test_df_gr = test_df_gr.loc[sub.index]\n",
    "\n",
    "    y = test_df_gr['cancer'].values#.astype(np.float32)\n",
    "    y_pred = sub['cancer'].values\n",
    "\n",
    "#     print(y.shape, y_pred.shape)\n",
    "\n",
    "    score = pfbeta(y, y_pred, 1)\n",
    "    print(th, score)"
   ]
  },
  {
   "cell_type": "code",
   "execution_count": 42,
   "id": "54dc5402",
   "metadata": {
    "execution": {
     "iopub.execute_input": "2023-02-24T13:36:20.465556Z",
     "iopub.status.busy": "2023-02-24T13:36:20.465234Z",
     "iopub.status.idle": "2023-02-24T13:36:22.816194Z",
     "shell.execute_reply": "2023-02-24T13:36:22.814542Z"
    },
    "papermill": {
     "duration": 2.467361,
     "end_time": "2023-02-24T13:36:22.818890",
     "exception": false,
     "start_time": "2023-02-24T13:36:20.351529",
     "status": "completed"
    },
    "tags": []
   },
   "outputs": [
    {
     "name": "stderr",
     "output_type": "stream",
     "text": [
      "\u001b[32m[I 2023-02-24 13:36:20,685]\u001b[0m A new study created in memory with name: no-name-016b5fda-d488-4576-979e-e7fb87aa8b9e\u001b[0m\n",
      "/opt/conda/lib/python3.7/site-packages/ipykernel_launcher.py:4: FutureWarning: suggest_uniform has been deprecated in v3.0.0. This feature will be removed in v6.0.0. See https://github.com/optuna/optuna/releases/tag/v3.0.0. Use :func:`~optuna.trial.Trial.suggest_float` instead.\n",
      "  after removing the cwd from sys.path.\n",
      "/opt/conda/lib/python3.7/site-packages/ipykernel_launcher.py:5: FutureWarning: suggest_uniform has been deprecated in v3.0.0. This feature will be removed in v6.0.0. See https://github.com/optuna/optuna/releases/tag/v3.0.0. Use :func:`~optuna.trial.Trial.suggest_float` instead.\n",
      "  \"\"\"\n",
      "\u001b[32m[I 2023-02-24 13:36:20,701]\u001b[0m Trial 0 finished with value: 0.5490196078431373 and parameters: {'ab_rate': 0.5884342186079625, 'th_rate': 0.04537116607979849}. Best is trial 0 with value: 0.5490196078431373.\u001b[0m\n",
      "\u001b[32m[I 2023-02-24 13:36:20,713]\u001b[0m Trial 1 finished with value: 0.608695652173913 and parameters: {'ab_rate': 0.5965222439103397, 'th_rate': 0.08796399299860265}. Best is trial 1 with value: 0.608695652173913.\u001b[0m\n",
      "\u001b[32m[I 2023-02-24 13:36:20,727]\u001b[0m Trial 2 finished with value: 0.4545454545454545 and parameters: {'ab_rate': 0.10678073821511883, 'th_rate': 0.09080804825882223}. Best is trial 1 with value: 0.608695652173913.\u001b[0m\n",
      "\u001b[32m[I 2023-02-24 13:36:20,738]\u001b[0m Trial 3 finished with value: 0.42857142857142855 and parameters: {'ab_rate': 0.7526332864794275, 'th_rate': 0.016963158652849263}. Best is trial 1 with value: 0.608695652173913.\u001b[0m\n",
      "\u001b[32m[I 2023-02-24 13:36:20,750]\u001b[0m Trial 4 finished with value: 0.5714285714285714 and parameters: {'ab_rate': 0.47415403930166344, 'th_rate': 0.05922761593658485}. Best is trial 1 with value: 0.608695652173913.\u001b[0m\n",
      "\u001b[32m[I 2023-02-24 13:36:20,764]\u001b[0m Trial 5 finished with value: 0.23529411764705882 and parameters: {'ab_rate': 0.5366918988155381, 'th_rate': 0.09754248726025333}. Best is trial 1 with value: 0.608695652173913.\u001b[0m\n",
      "\u001b[32m[I 2023-02-24 13:36:20,776]\u001b[0m Trial 6 finished with value: 0.48148148148148145 and parameters: {'ab_rate': 0.2544580238506762, 'th_rate': 0.041107089057688444}. Best is trial 1 with value: 0.608695652173913.\u001b[0m\n",
      "\u001b[32m[I 2023-02-24 13:36:20,788]\u001b[0m Trial 7 finished with value: 0.125 and parameters: {'ab_rate': 0.295494587603754, 'th_rate': 0.09850485061310506}. Best is trial 1 with value: 0.608695652173913.\u001b[0m\n",
      "\u001b[32m[I 2023-02-24 13:36:20,803]\u001b[0m Trial 8 finished with value: 0.33333333333333337 and parameters: {'ab_rate': 0.14591888205307077, 'th_rate': 0.06030473292697458}. Best is trial 1 with value: 0.608695652173913.\u001b[0m\n",
      "\u001b[32m[I 2023-02-24 13:36:20,818]\u001b[0m Trial 9 finished with value: 0.8275862068965518 and parameters: {'ab_rate': 0.8033768899388772, 'th_rate': 0.07910977284671039}. Best is trial 9 with value: 0.8275862068965518.\u001b[0m\n",
      "\u001b[32m[I 2023-02-24 13:36:20,847]\u001b[0m Trial 10 finished with value: 0.8235294117647058 and parameters: {'ab_rate': 0.8495037714113087, 'th_rate': 0.071510734417169}. Best is trial 9 with value: 0.8275862068965518.\u001b[0m\n",
      "\u001b[32m[I 2023-02-24 13:36:20,866]\u001b[0m Trial 11 finished with value: 0.7096774193548386 and parameters: {'ab_rate': 0.8979806537847637, 'th_rate': 0.07658348405014229}. Best is trial 9 with value: 0.8275862068965518.\u001b[0m\n",
      "\u001b[32m[I 2023-02-24 13:36:20,888]\u001b[0m Trial 12 finished with value: 0.7878787878787877 and parameters: {'ab_rate': 0.8949138873688469, 'th_rate': 0.07279240453567971}. Best is trial 9 with value: 0.8275862068965518.\u001b[0m\n",
      "\u001b[32m[I 2023-02-24 13:36:20,911]\u001b[0m Trial 13 finished with value: 0.47619047619047616 and parameters: {'ab_rate': 0.7477881148222414, 'th_rate': 0.027929195112786288}. Best is trial 9 with value: 0.8275862068965518.\u001b[0m\n",
      "\u001b[32m[I 2023-02-24 13:36:20,935]\u001b[0m Trial 14 finished with value: 0.7500000000000001 and parameters: {'ab_rate': 0.7633623738997777, 'th_rate': 0.0748729199927338}. Best is trial 9 with value: 0.8275862068965518.\u001b[0m\n",
      "\u001b[32m[I 2023-02-24 13:36:20,961]\u001b[0m Trial 15 finished with value: 0.6829268292682926 and parameters: {'ab_rate': 0.6914013814910962, 'th_rate': 0.06119314313400294}. Best is trial 9 with value: 0.8275862068965518.\u001b[0m\n",
      "\u001b[32m[I 2023-02-24 13:36:20,985]\u001b[0m Trial 16 finished with value: 0.8148148148148148 and parameters: {'ab_rate': 0.836102124090633, 'th_rate': 0.08292886916084113}. Best is trial 9 with value: 0.8275862068965518.\u001b[0m\n",
      "\u001b[32m[I 2023-02-24 13:36:21,007]\u001b[0m Trial 17 finished with value: 0.38961038961038963 and parameters: {'ab_rate': 0.39188109557352657, 'th_rate': 0.006343324038069496}. Best is trial 9 with value: 0.8275862068965518.\u001b[0m\n",
      "\u001b[32m[I 2023-02-24 13:36:21,032]\u001b[0m Trial 18 finished with value: 0.7222222222222222 and parameters: {'ab_rate': 0.6676265302205838, 'th_rate': 0.06873991877803323}. Best is trial 9 with value: 0.8275862068965518.\u001b[0m\n",
      "\u001b[32m[I 2023-02-24 13:36:21,055]\u001b[0m Trial 19 finished with value: 0.5172413793103449 and parameters: {'ab_rate': 0.8187248092632883, 'th_rate': 0.03500332299803191}. Best is trial 9 with value: 0.8275862068965518.\u001b[0m\n",
      "\u001b[32m[I 2023-02-24 13:36:21,079]\u001b[0m Trial 20 finished with value: 0.608695652173913 and parameters: {'ab_rate': 0.6551111293402403, 'th_rate': 0.05384911990989287}. Best is trial 9 with value: 0.8275862068965518.\u001b[0m\n",
      "\u001b[32m[I 2023-02-24 13:36:21,102]\u001b[0m Trial 21 finished with value: 0.8148148148148148 and parameters: {'ab_rate': 0.816497002389148, 'th_rate': 0.08283803982433595}. Best is trial 9 with value: 0.8275862068965518.\u001b[0m\n",
      "\u001b[32m[I 2023-02-24 13:36:21,125]\u001b[0m Trial 22 finished with value: 0.8148148148148148 and parameters: {'ab_rate': 0.8353207757293093, 'th_rate': 0.08234890963210582}. Best is trial 9 with value: 0.8275862068965518.\u001b[0m\n",
      "\u001b[32m[I 2023-02-24 13:36:21,149]\u001b[0m Trial 23 finished with value: 0.7567567567567568 and parameters: {'ab_rate': 0.8536166480839438, 'th_rate': 0.067532372571745}. Best is trial 9 with value: 0.8275862068965518.\u001b[0m\n",
      "\u001b[32m[I 2023-02-24 13:36:21,170]\u001b[0m Trial 24 finished with value: 0.8571428571428571 and parameters: {'ab_rate': 0.765419116504856, 'th_rate': 0.0813489867070476}. Best is trial 24 with value: 0.8571428571428571.\u001b[0m\n",
      "\u001b[32m[I 2023-02-24 13:36:21,195]\u001b[0m Trial 25 finished with value: 0.6363636363636364 and parameters: {'ab_rate': 0.7230641156573923, 'th_rate': 0.0907585335049316}. Best is trial 24 with value: 0.8571428571428571.\u001b[0m\n",
      "\u001b[32m[I 2023-02-24 13:36:21,219]\u001b[0m Trial 26 finished with value: 0.6521739130434783 and parameters: {'ab_rate': 0.7778434916549454, 'th_rate': 0.05311925133611708}. Best is trial 24 with value: 0.8571428571428571.\u001b[0m\n",
      "\u001b[32m[I 2023-02-24 13:36:21,243]\u001b[0m Trial 27 finished with value: 0.7096774193548386 and parameters: {'ab_rate': 0.618775636467073, 'th_rate': 0.0768901922911996}. Best is trial 24 with value: 0.8571428571428571.\u001b[0m\n",
      "\u001b[32m[I 2023-02-24 13:36:21,266]\u001b[0m Trial 28 finished with value: 0.6285714285714286 and parameters: {'ab_rate': 0.47541196896687926, 'th_rate': 0.06976915496656967}. Best is trial 24 with value: 0.8571428571428571.\u001b[0m\n",
      "\u001b[32m[I 2023-02-24 13:36:21,289]\u001b[0m Trial 29 finished with value: 0.5490196078431373 and parameters: {'ab_rate': 0.556881869593047, 'th_rate': 0.04606386120421285}. Best is trial 24 with value: 0.8571428571428571.\u001b[0m\n",
      "\u001b[32m[I 2023-02-24 13:36:21,311]\u001b[0m Trial 30 finished with value: 0.7179487179487181 and parameters: {'ab_rate': 0.7043525378804991, 'th_rate': 0.06450105781182228}. Best is trial 24 with value: 0.8571428571428571.\u001b[0m\n",
      "\u001b[32m[I 2023-02-24 13:36:21,335]\u001b[0m Trial 31 finished with value: 0.7200000000000001 and parameters: {'ab_rate': 0.8000842500628003, 'th_rate': 0.08503271730195236}. Best is trial 24 with value: 0.8571428571428571.\u001b[0m\n",
      "\u001b[32m[I 2023-02-24 13:36:21,358]\u001b[0m Trial 32 finished with value: 0.7586206896551724 and parameters: {'ab_rate': 0.8558645682449126, 'th_rate': 0.07980736828307979}. Best is trial 24 with value: 0.8571428571428571.\u001b[0m\n",
      "\u001b[32m[I 2023-02-24 13:36:21,379]\u001b[0m Trial 33 finished with value: 0.5714285714285715 and parameters: {'ab_rate': 0.8837367310298004, 'th_rate': 0.09190151372516726}. Best is trial 24 with value: 0.8571428571428571.\u001b[0m\n",
      "\u001b[32m[I 2023-02-24 13:36:21,400]\u001b[0m Trial 34 finished with value: 0.6666666666666667 and parameters: {'ab_rate': 0.6112761786646771, 'th_rate': 0.08769754451131159}. Best is trial 24 with value: 0.8571428571428571.\u001b[0m\n",
      "\u001b[32m[I 2023-02-24 13:36:21,424]\u001b[0m Trial 35 finished with value: 0.4210526315789474 and parameters: {'ab_rate': 0.7755656730482339, 'th_rate': 0.09417335531449748}. Best is trial 24 with value: 0.8571428571428571.\u001b[0m\n",
      "\u001b[32m[I 2023-02-24 13:36:21,445]\u001b[0m Trial 36 finished with value: 0.8275862068965518 and parameters: {'ab_rate': 0.7172291917653891, 'th_rate': 0.0792198195751171}. Best is trial 24 with value: 0.8571428571428571.\u001b[0m\n",
      "\u001b[32m[I 2023-02-24 13:36:21,467]\u001b[0m Trial 37 finished with value: 0.7179487179487181 and parameters: {'ab_rate': 0.7293018906483799, 'th_rate': 0.06468071026188899}. Best is trial 24 with value: 0.8571428571428571.\u001b[0m\n",
      "\u001b[32m[I 2023-02-24 13:36:21,487]\u001b[0m Trial 38 finished with value: 0.6363636363636364 and parameters: {'ab_rate': 0.654065611873512, 'th_rate': 0.056562260463583175}. Best is trial 24 with value: 0.8571428571428571.\u001b[0m\n",
      "\u001b[32m[I 2023-02-24 13:36:21,509]\u001b[0m Trial 39 finished with value: 0.6666666666666667 and parameters: {'ab_rate': 0.56824849544397, 'th_rate': 0.08734492258441015}. Best is trial 24 with value: 0.8571428571428571.\u001b[0m\n",
      "\u001b[32m[I 2023-02-24 13:36:21,529]\u001b[0m Trial 40 finished with value: 0.23529411764705882 and parameters: {'ab_rate': 0.42213494672300395, 'th_rate': 0.09781678540098268}. Best is trial 24 with value: 0.8571428571428571.\u001b[0m\n",
      "\u001b[32m[I 2023-02-24 13:36:21,550]\u001b[0m Trial 41 finished with value: 0.8275862068965518 and parameters: {'ab_rate': 0.7952371096889477, 'th_rate': 0.07976217867352013}. Best is trial 24 with value: 0.8571428571428571.\u001b[0m\n",
      "\u001b[32m[I 2023-02-24 13:36:21,573]\u001b[0m Trial 42 finished with value: 0.7647058823529413 and parameters: {'ab_rate': 0.7928437085350666, 'th_rate': 0.07239177504669393}. Best is trial 24 with value: 0.8571428571428571.\u001b[0m\n",
      "\u001b[32m[I 2023-02-24 13:36:21,594]\u001b[0m Trial 43 finished with value: 0.8275862068965518 and parameters: {'ab_rate': 0.7358947372364061, 'th_rate': 0.07894733669918468}. Best is trial 24 with value: 0.8571428571428571.\u001b[0m\n",
      "\u001b[32m[I 2023-02-24 13:36:21,615]\u001b[0m Trial 44 finished with value: 0.8000000000000002 and parameters: {'ab_rate': 0.7372831622713624, 'th_rate': 0.07803787965282909}. Best is trial 24 with value: 0.8571428571428571.\u001b[0m\n",
      "\u001b[32m[I 2023-02-24 13:36:21,637]\u001b[0m Trial 45 finished with value: 0.5 and parameters: {'ab_rate': 0.6845829424980718, 'th_rate': 0.09296531176163071}. Best is trial 24 with value: 0.8571428571428571.\u001b[0m\n",
      "\u001b[32m[I 2023-02-24 13:36:21,660]\u001b[0m Trial 46 finished with value: 0.8275862068965518 and parameters: {'ab_rate': 0.7517950265120811, 'th_rate': 0.07893822537863418}. Best is trial 24 with value: 0.8571428571428571.\u001b[0m\n",
      "\u001b[32m[I 2023-02-24 13:36:21,683]\u001b[0m Trial 47 finished with value: 0.65 and parameters: {'ab_rate': 0.6356295246560539, 'th_rate': 0.06305907216357423}. Best is trial 24 with value: 0.8571428571428571.\u001b[0m\n",
      "\u001b[32m[I 2023-02-24 13:36:21,705]\u001b[0m Trial 48 finished with value: 0.6666666666666667 and parameters: {'ab_rate': 0.5189816851086385, 'th_rate': 0.086957692067866}. Best is trial 24 with value: 0.8571428571428571.\u001b[0m\n",
      "\u001b[32m[I 2023-02-24 13:36:21,726]\u001b[0m Trial 49 finished with value: 0.125 and parameters: {'ab_rate': 0.7054014588315605, 'th_rate': 0.09963714137134758}. Best is trial 24 with value: 0.8571428571428571.\u001b[0m\n",
      "\u001b[32m[I 2023-02-24 13:36:21,750]\u001b[0m Trial 50 finished with value: 0.42424242424242425 and parameters: {'ab_rate': 0.2555934131516924, 'th_rate': 0.07377219178680423}. Best is trial 24 with value: 0.8571428571428571.\u001b[0m\n",
      "\u001b[32m[I 2023-02-24 13:36:21,771]\u001b[0m Trial 51 finished with value: 0.8000000000000002 and parameters: {'ab_rate': 0.758652813968952, 'th_rate': 0.07801159491974856}. Best is trial 24 with value: 0.8571428571428571.\u001b[0m\n",
      "\u001b[32m[I 2023-02-24 13:36:21,793]\u001b[0m Trial 52 finished with value: 0.8571428571428571 and parameters: {'ab_rate': 0.7959883300327154, 'th_rate': 0.08118843265950647}. Best is trial 24 with value: 0.8571428571428571.\u001b[0m\n",
      "\u001b[32m[I 2023-02-24 13:36:21,815]\u001b[0m Trial 53 finished with value: 0.8148148148148148 and parameters: {'ab_rate': 0.8771785807982486, 'th_rate': 0.08240005489018556}. Best is trial 24 with value: 0.8571428571428571.\u001b[0m\n",
      "\u001b[32m[I 2023-02-24 13:36:21,836]\u001b[0m Trial 54 finished with value: 0.7567567567567568 and parameters: {'ab_rate': 0.8047188251056531, 'th_rate': 0.0678707140105242}. Best is trial 24 with value: 0.8571428571428571.\u001b[0m\n",
      "\u001b[32m[I 2023-02-24 13:36:21,857]\u001b[0m Trial 55 finished with value: 0.8275862068965518 and parameters: {'ab_rate': 0.7482328777269401, 'th_rate': 0.08013238069925956}. Best is trial 24 with value: 0.8571428571428571.\u001b[0m\n",
      "\u001b[32m[I 2023-02-24 13:36:21,879]\u001b[0m Trial 56 finished with value: 0.46874999999999994 and parameters: {'ab_rate': 0.8274461350523183, 'th_rate': 0.02646794824192732}. Best is trial 24 with value: 0.8571428571428571.\u001b[0m\n",
      "\u001b[32m[I 2023-02-24 13:36:21,899]\u001b[0m Trial 57 finished with value: 0.7500000000000001 and parameters: {'ab_rate': 0.865572243293695, 'th_rate': 0.07431764781788242}. Best is trial 24 with value: 0.8571428571428571.\u001b[0m\n",
      "\u001b[32m[I 2023-02-24 13:36:21,924]\u001b[0m Trial 58 finished with value: 0.6363636363636364 and parameters: {'ab_rate': 0.7782865796030052, 'th_rate': 0.0902469192763162}. Best is trial 24 with value: 0.8571428571428571.\u001b[0m\n",
      "\u001b[32m[I 2023-02-24 13:36:21,948]\u001b[0m Trial 59 finished with value: 0.3846153846153846 and parameters: {'ab_rate': 0.15366625710984205, 'th_rate': 0.08406798578089565}. Best is trial 24 with value: 0.8571428571428571.\u001b[0m\n",
      "\u001b[32m[I 2023-02-24 13:36:21,972]\u001b[0m Trial 60 finished with value: 0.33333333333333337 and parameters: {'ab_rate': 0.6801348362636463, 'th_rate': 0.09551840463871716}. Best is trial 24 with value: 0.8571428571428571.\u001b[0m\n",
      "\u001b[32m[I 2023-02-24 13:36:21,996]\u001b[0m Trial 61 finished with value: 0.8275862068965518 and parameters: {'ab_rate': 0.7588551269600733, 'th_rate': 0.07973229391181146}. Best is trial 24 with value: 0.8571428571428571.\u001b[0m\n",
      "\u001b[32m[I 2023-02-24 13:36:22,019]\u001b[0m Trial 62 finished with value: 0.7647058823529413 and parameters: {'ab_rate': 0.7441282432986778, 'th_rate': 0.07107611940532568}. Best is trial 24 with value: 0.8571428571428571.\u001b[0m\n",
      "\u001b[32m[I 2023-02-24 13:36:22,041]\u001b[0m Trial 63 finished with value: 0.7741935483870969 and parameters: {'ab_rate': 0.7550810380627584, 'th_rate': 0.0758986819746834}. Best is trial 24 with value: 0.8571428571428571.\u001b[0m\n",
      "\u001b[32m[I 2023-02-24 13:36:22,062]\u001b[0m Trial 64 finished with value: 0.8571428571428571 and parameters: {'ab_rate': 0.7012885961541792, 'th_rate': 0.08139040290365696}. Best is trial 24 with value: 0.8571428571428571.\u001b[0m\n",
      "\u001b[32m[I 2023-02-24 13:36:22,084]\u001b[0m Trial 65 finished with value: 0.37037037037037035 and parameters: {'ab_rate': 0.7091324660713778, 'th_rate': 0.0005965350598958891}. Best is trial 24 with value: 0.8571428571428571.\u001b[0m\n",
      "\u001b[32m[I 2023-02-24 13:36:22,106]\u001b[0m Trial 66 finished with value: 0.6363636363636364 and parameters: {'ab_rate': 0.5910081693679229, 'th_rate': 0.08936506585952}. Best is trial 24 with value: 0.8571428571428571.\u001b[0m\n",
      "\u001b[32m[I 2023-02-24 13:36:22,128]\u001b[0m Trial 67 finished with value: 0.7200000000000001 and parameters: {'ab_rate': 0.6571687118243819, 'th_rate': 0.08509569089699612}. Best is trial 24 with value: 0.8571428571428571.\u001b[0m\n",
      "\u001b[32m[I 2023-02-24 13:36:22,149]\u001b[0m Trial 68 finished with value: 0.7567567567567568 and parameters: {'ab_rate': 0.8387611778186361, 'th_rate': 0.06705994384402572}. Best is trial 24 with value: 0.8571428571428571.\u001b[0m\n",
      "\u001b[32m[I 2023-02-24 13:36:22,170]\u001b[0m Trial 69 finished with value: 0.8571428571428571 and parameters: {'ab_rate': 0.7111515864484808, 'th_rate': 0.08134732657464024}. Best is trial 24 with value: 0.8571428571428571.\u001b[0m\n",
      "\u001b[32m[I 2023-02-24 13:36:22,191]\u001b[0m Trial 70 finished with value: 0.8571428571428571 and parameters: {'ab_rate': 0.7905498018182535, 'th_rate': 0.08163505183464405}. Best is trial 24 with value: 0.8571428571428571.\u001b[0m\n",
      "\u001b[32m[I 2023-02-24 13:36:22,213]\u001b[0m Trial 71 finished with value: 0.8148148148148148 and parameters: {'ab_rate': 0.8016389293173568, 'th_rate': 0.0827008620904884}. Best is trial 24 with value: 0.8571428571428571.\u001b[0m\n",
      "\u001b[32m[I 2023-02-24 13:36:22,234]\u001b[0m Trial 72 finished with value: 0.7200000000000001 and parameters: {'ab_rate': 0.7772841398872321, 'th_rate': 0.08620223448680263}. Best is trial 24 with value: 0.8571428571428571.\u001b[0m\n",
      "\u001b[32m[I 2023-02-24 13:36:22,255]\u001b[0m Trial 73 finished with value: 0.7500000000000001 and parameters: {'ab_rate': 0.8236620164235946, 'th_rate': 0.07524923544674932}. Best is trial 24 with value: 0.8571428571428571.\u001b[0m\n",
      "\u001b[32m[I 2023-02-24 13:36:22,277]\u001b[0m Trial 74 finished with value: 0.8571428571428571 and parameters: {'ab_rate': 0.6924317864731524, 'th_rate': 0.0805953478629882}. Best is trial 24 with value: 0.8571428571428571.\u001b[0m\n",
      "\u001b[32m[I 2023-02-24 13:36:22,299]\u001b[0m Trial 75 finished with value: 0.8571428571428571 and parameters: {'ab_rate': 0.6758147483950117, 'th_rate': 0.08162223187904405}. Best is trial 24 with value: 0.8571428571428571.\u001b[0m\n",
      "\u001b[32m[I 2023-02-24 13:36:22,321]\u001b[0m Trial 76 finished with value: 0.608695652173913 and parameters: {'ab_rate': 0.629906200227062, 'th_rate': 0.08922888501116033}. Best is trial 24 with value: 0.8571428571428571.\u001b[0m\n",
      "\u001b[32m[I 2023-02-24 13:36:22,342]\u001b[0m Trial 77 finished with value: 0.4210526315789474 and parameters: {'ab_rate': 0.6796242640625255, 'th_rate': 0.09473316809703168}. Best is trial 24 with value: 0.8571428571428571.\u001b[0m\n",
      "\u001b[32m[I 2023-02-24 13:36:22,363]\u001b[0m Trial 78 finished with value: 0.8571428571428571 and parameters: {'ab_rate': 0.6988989906380166, 'th_rate': 0.08144244596190603}. Best is trial 24 with value: 0.8571428571428571.\u001b[0m\n",
      "\u001b[32m[I 2023-02-24 13:36:22,384]\u001b[0m Trial 79 finished with value: 0.7407407407407408 and parameters: {'ab_rate': 0.6396048349949912, 'th_rate': 0.08246578264997405}. Best is trial 24 with value: 0.8571428571428571.\u001b[0m\n",
      "\u001b[32m[I 2023-02-24 13:36:22,405]\u001b[0m Trial 80 finished with value: 0.7428571428571429 and parameters: {'ab_rate': 0.6953861427971934, 'th_rate': 0.06972052950882328}. Best is trial 24 with value: 0.8571428571428571.\u001b[0m\n",
      "\u001b[32m[I 2023-02-24 13:36:22,427]\u001b[0m Trial 81 finished with value: 0.8571428571428571 and parameters: {'ab_rate': 0.7116213418643369, 'th_rate': 0.08092729457398726}. Best is trial 24 with value: 0.8571428571428571.\u001b[0m\n",
      "\u001b[32m[I 2023-02-24 13:36:22,448]\u001b[0m Trial 82 finished with value: 0.7200000000000001 and parameters: {'ab_rate': 0.7196479968166352, 'th_rate': 0.0852552414151253}. Best is trial 24 with value: 0.8571428571428571.\u001b[0m\n",
      "\u001b[32m[I 2023-02-24 13:36:22,469]\u001b[0m Trial 83 finished with value: 0.7741935483870969 and parameters: {'ab_rate': 0.6674998007154479, 'th_rate': 0.07624690318578459}. Best is trial 24 with value: 0.8571428571428571.\u001b[0m\n",
      "\u001b[32m[I 2023-02-24 13:36:22,490]\u001b[0m Trial 84 finished with value: 0.7058823529411765 and parameters: {'ab_rate': 0.5966957283440669, 'th_rate': 0.07189571274221836}. Best is trial 24 with value: 0.8571428571428571.\u001b[0m\n",
      "\u001b[32m[I 2023-02-24 13:36:22,512]\u001b[0m Trial 85 finished with value: 0.8571428571428571 and parameters: {'ab_rate': 0.72468956635107, 'th_rate': 0.08123491295609221}. Best is trial 24 with value: 0.8571428571428571.\u001b[0m\n",
      "\u001b[32m[I 2023-02-24 13:36:22,534]\u001b[0m Trial 86 finished with value: 0.6956521739130436 and parameters: {'ab_rate': 0.7231693757683115, 'th_rate': 0.08849226024464421}. Best is trial 24 with value: 0.8571428571428571.\u001b[0m\n",
      "\u001b[32m[I 2023-02-24 13:36:22,555]\u001b[0m Trial 87 finished with value: 0.5714285714285715 and parameters: {'ab_rate': 0.5691360138946584, 'th_rate': 0.09162478237111416}. Best is trial 24 with value: 0.8571428571428571.\u001b[0m\n",
      "\u001b[32m[I 2023-02-24 13:36:22,576]\u001b[0m Trial 88 finished with value: 0.5357142857142857 and parameters: {'ab_rate': 0.6902170260175748, 'th_rate': 0.03855492892177347}. Best is trial 24 with value: 0.8571428571428571.\u001b[0m\n",
      "\u001b[32m[I 2023-02-24 13:36:22,597]\u001b[0m Trial 89 finished with value: 0.7272727272727272 and parameters: {'ab_rate': 0.6133799399661067, 'th_rate': 0.07335476513730203}. Best is trial 24 with value: 0.8571428571428571.\u001b[0m\n",
      "\u001b[32m[I 2023-02-24 13:36:22,619]\u001b[0m Trial 90 finished with value: 0.7692307692307692 and parameters: {'ab_rate': 0.6599120737589682, 'th_rate': 0.08448635565389398}. Best is trial 24 with value: 0.8571428571428571.\u001b[0m\n",
      "\u001b[32m[I 2023-02-24 13:36:22,641]\u001b[0m Trial 91 finished with value: 0.8571428571428571 and parameters: {'ab_rate': 0.7707559463253212, 'th_rate': 0.08054907758974014}. Best is trial 24 with value: 0.8571428571428571.\u001b[0m\n",
      "\u001b[32m[I 2023-02-24 13:36:22,662]\u001b[0m Trial 92 finished with value: 0.7499999999999999 and parameters: {'ab_rate': 0.7878646358115761, 'th_rate': 0.08723200939495387}. Best is trial 24 with value: 0.8571428571428571.\u001b[0m\n",
      "\u001b[32m[I 2023-02-24 13:36:22,682]\u001b[0m Trial 93 finished with value: 0.7741935483870969 and parameters: {'ab_rate': 0.7697485591203637, 'th_rate': 0.07645191493008949}. Best is trial 24 with value: 0.8571428571428571.\u001b[0m\n",
      "\u001b[32m[I 2023-02-24 13:36:22,704]\u001b[0m Trial 94 finished with value: 0.8571428571428571 and parameters: {'ab_rate': 0.7358692657253594, 'th_rate': 0.08105900033318138}. Best is trial 24 with value: 0.8571428571428571.\u001b[0m\n",
      "\u001b[32m[I 2023-02-24 13:36:22,725]\u001b[0m Trial 95 finished with value: 0.8000000000000002 and parameters: {'ab_rate': 0.8084051568817539, 'th_rate': 0.07825578665347545}. Best is trial 24 with value: 0.8571428571428571.\u001b[0m\n",
      "\u001b[32m[I 2023-02-24 13:36:22,747]\u001b[0m Trial 96 finished with value: 0.8148148148148148 and parameters: {'ab_rate': 0.7331785259579734, 'th_rate': 0.08212298663127131}. Best is trial 24 with value: 0.8571428571428571.\u001b[0m\n",
      "\u001b[32m[I 2023-02-24 13:36:22,769]\u001b[0m Trial 97 finished with value: 0.846153846153846 and parameters: {'ab_rate': 0.846533407623084, 'th_rate': 0.08412673877311787}. Best is trial 24 with value: 0.8571428571428571.\u001b[0m\n",
      "\u001b[32m[I 2023-02-24 13:36:22,790]\u001b[0m Trial 98 finished with value: 0.4166666666666667 and parameters: {'ab_rate': 0.7087035751450288, 'th_rate': 0.014319681045688128}. Best is trial 24 with value: 0.8571428571428571.\u001b[0m\n",
      "\u001b[32m[I 2023-02-24 13:36:22,810]\u001b[0m Trial 99 finished with value: 0.8000000000000002 and parameters: {'ab_rate': 0.7637148313034249, 'th_rate': 0.07753025037828305}. Best is trial 24 with value: 0.8571428571428571.\u001b[0m\n"
     ]
    },
    {
     "name": "stdout",
     "output_type": "stream",
     "text": [
      "{'ab_rate': 0.765419116504856, 'th_rate': 0.0813489867070476}\n"
     ]
    }
   ],
   "source": [
    "if RAM_CHECK:\n",
    "    import optuna\n",
    "    def opt(trial):\n",
    "        ab_rate = trial.suggest_uniform('ab_rate', 0.1, 0.9)\n",
    "        th_rate = trial.suggest_uniform('th_rate', 0.0, 0.1)\n",
    "\n",
    "        preds_marged = [sub_1*ab_rate + submission_2[p]*(1.0-ab_rate) for sub_1,p in zip(preds,prediction_id)]\n",
    "\n",
    "        pred_df = pd.DataFrame({'prediction_id': prediction_id, 'cancer_raw': preds_marged})\n",
    "\n",
    "        #aggregate by prediction_id , i.e. by patient_laterality\n",
    "        sub = pred_df.groupby('prediction_id')[['cancer_raw']].agg('mean')\n",
    "\n",
    "        # binarize predictions\n",
    "        th = np.quantile(sub['cancer_raw'].values,0.9+th_rate)\n",
    "        sub['cancer'] = (sub['cancer_raw'].values > th).astype(int)\n",
    "\n",
    "        y = test_df_gr['cancer'].values#.astype(np.float32)\n",
    "        y_pred = sub['cancer'].values\n",
    "\n",
    "        score = pfbeta(y, y_pred, 1)\n",
    "\n",
    "        return score\n",
    "    study = optuna.create_study(direction='maximize')\n",
    "    study.optimize(opt, n_trials=100)\n",
    "    print(study.best_params)"
   ]
  }
 ],
 "metadata": {
  "kernelspec": {
   "display_name": "Python 3",
   "language": "python",
   "name": "python3"
  },
  "language_info": {
   "codemirror_mode": {
    "name": "ipython",
    "version": 3
   },
   "file_extension": ".py",
   "mimetype": "text/x-python",
   "name": "python",
   "nbconvert_exporter": "python",
   "pygments_lexer": "ipython3",
   "version": "3.7.12"
  },
  "papermill": {
   "default_parameters": {},
   "duration": 1267.930842,
   "end_time": "2023-02-24T13:36:26.214831",
   "environment_variables": {},
   "exception": null,
   "input_path": "__notebook__.ipynb",
   "output_path": "__notebook__.ipynb",
   "parameters": {},
   "start_time": "2023-02-24T13:15:18.283989",
   "version": "2.3.4"
  }
 },
 "nbformat": 4,
 "nbformat_minor": 5
}
